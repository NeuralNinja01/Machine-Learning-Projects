{
  "nbformat": 4,
  "nbformat_minor": 0,
  "metadata": {
    "colab": {
      "provenance": [],
      "authorship_tag": "ABX9TyOEws/+lPgyDJdL/YX5YlQ5",
      "include_colab_link": true
    },
    "kernelspec": {
      "name": "python3",
      "display_name": "Python 3"
    },
    "language_info": {
      "name": "python"
    }
  },
  "cells": [
    {
      "cell_type": "markdown",
      "metadata": {
        "id": "view-in-github",
        "colab_type": "text"
      },
      "source": [
        "<a href=\"https://colab.research.google.com/github/NeuralNinja01/Mid-Term/blob/main/Movie_Recommendation_System_using_Machine_Learning.ipynb\" target=\"_parent\"><img src=\"https://colab.research.google.com/assets/colab-badge.svg\" alt=\"Open In Colab\"/></a>"
      ]
    },
    {
      "cell_type": "markdown",
      "source": [
        "Importing the dependencies"
      ],
      "metadata": {
        "id": "eM-LOptyvqhW"
      }
    },
    {
      "cell_type": "code",
      "execution_count": 1,
      "metadata": {
        "id": "cHMhp7a3q9Gf"
      },
      "outputs": [],
      "source": [
        "import numpy as np\n",
        "import pandas as pd\n",
        "import difflib\n",
        "from sklearn.feature_extraction.text import TfidfVectorizer\n",
        "from sklearn.metrics.pairwise import cosine_similarity"
      ]
    },
    {
      "cell_type": "markdown",
      "source": [
        "Data collection and Pre-Processing"
      ],
      "metadata": {
        "id": "tew1ZYkyzjYP"
      }
    },
    {
      "cell_type": "code",
      "source": [
        "# loading the data from the csv file to apandas dataframe\n",
        "movies_data = pd.read_csv('/content/bollywoodmovies.csv')"
      ],
      "metadata": {
        "id": "XUdktAn40Dw4"
      },
      "execution_count": 7,
      "outputs": []
    },
    {
      "cell_type": "code",
      "source": [
        "# printing the first 5 rows of the dataframe\n",
        "movies_data.head()"
      ],
      "metadata": {
        "colab": {
          "base_uri": "https://localhost:8080/",
          "height": 399
        },
        "id": "hE0TI9DG30J9",
        "outputId": "15abaaff-bfc1-4395-f869-5800b8d8fc8e"
      },
      "execution_count": 8,
      "outputs": [
        {
          "output_type": "execute_result",
          "data": {
            "text/plain": [
              "                   Movie Name Release Period Whether Remake Whether Franchise  \\\n",
              "0                     Ghajini        Holiday            Yes                No   \n",
              "1            Taare Zameen Par        Holiday             No                No   \n",
              "2  Mangal Pandey - The Rising        Holiday             No                No   \n",
              "3                       Fanaa         Normal             No                No   \n",
              "4                      Dangal        Holiday             No                No   \n",
              "\n",
              "        Genre New Actor New Director New Music Director   Lead Star  \\\n",
              "0      action        No          Yes                 No  Aamir Khan   \n",
              "1       drama        No          Yes                 No  Aamir Khan   \n",
              "2       drama        No           No                 No  Aamir Khan   \n",
              "3  love_story        No           No                 No  Aamir Khan   \n",
              "4       drama        No           No                 No  Aamir Khan   \n",
              "\n",
              "          Director          Music Director  Number of Screens  Revenue(INR)  \\\n",
              "0  A.R. Murugadoss             A.R. Rehman               1550     520000000   \n",
              "1       Aamir Khan  Shankar - Ehsaan - Loy                500     180000000   \n",
              "2      Ketan Mehta             A.R. Rehman                675     370000000   \n",
              "3      Kunal Kohli           Jatin - Lalit                650     300000000   \n",
              "4    Nitish Tiwari                  Pritam               4250    1320000000   \n",
              "\n",
              "   Budget(INR)  \n",
              "0   1945820000  \n",
              "1    875785000  \n",
              "2    525785000  \n",
              "3   1054800000  \n",
              "4   7024750000  "
            ],
            "text/html": [
              "\n",
              "  <div id=\"df-2ca49772-090c-4d2b-876f-c64c49efcafb\" class=\"colab-df-container\">\n",
              "    <div>\n",
              "<style scoped>\n",
              "    .dataframe tbody tr th:only-of-type {\n",
              "        vertical-align: middle;\n",
              "    }\n",
              "\n",
              "    .dataframe tbody tr th {\n",
              "        vertical-align: top;\n",
              "    }\n",
              "\n",
              "    .dataframe thead th {\n",
              "        text-align: right;\n",
              "    }\n",
              "</style>\n",
              "<table border=\"1\" class=\"dataframe\">\n",
              "  <thead>\n",
              "    <tr style=\"text-align: right;\">\n",
              "      <th></th>\n",
              "      <th>Movie Name</th>\n",
              "      <th>Release Period</th>\n",
              "      <th>Whether Remake</th>\n",
              "      <th>Whether Franchise</th>\n",
              "      <th>Genre</th>\n",
              "      <th>New Actor</th>\n",
              "      <th>New Director</th>\n",
              "      <th>New Music Director</th>\n",
              "      <th>Lead Star</th>\n",
              "      <th>Director</th>\n",
              "      <th>Music Director</th>\n",
              "      <th>Number of Screens</th>\n",
              "      <th>Revenue(INR)</th>\n",
              "      <th>Budget(INR)</th>\n",
              "    </tr>\n",
              "  </thead>\n",
              "  <tbody>\n",
              "    <tr>\n",
              "      <th>0</th>\n",
              "      <td>Ghajini</td>\n",
              "      <td>Holiday</td>\n",
              "      <td>Yes</td>\n",
              "      <td>No</td>\n",
              "      <td>action</td>\n",
              "      <td>No</td>\n",
              "      <td>Yes</td>\n",
              "      <td>No</td>\n",
              "      <td>Aamir Khan</td>\n",
              "      <td>A.R. Murugadoss</td>\n",
              "      <td>A.R. Rehman</td>\n",
              "      <td>1550</td>\n",
              "      <td>520000000</td>\n",
              "      <td>1945820000</td>\n",
              "    </tr>\n",
              "    <tr>\n",
              "      <th>1</th>\n",
              "      <td>Taare Zameen Par</td>\n",
              "      <td>Holiday</td>\n",
              "      <td>No</td>\n",
              "      <td>No</td>\n",
              "      <td>drama</td>\n",
              "      <td>No</td>\n",
              "      <td>Yes</td>\n",
              "      <td>No</td>\n",
              "      <td>Aamir Khan</td>\n",
              "      <td>Aamir Khan</td>\n",
              "      <td>Shankar - Ehsaan - Loy</td>\n",
              "      <td>500</td>\n",
              "      <td>180000000</td>\n",
              "      <td>875785000</td>\n",
              "    </tr>\n",
              "    <tr>\n",
              "      <th>2</th>\n",
              "      <td>Mangal Pandey - The Rising</td>\n",
              "      <td>Holiday</td>\n",
              "      <td>No</td>\n",
              "      <td>No</td>\n",
              "      <td>drama</td>\n",
              "      <td>No</td>\n",
              "      <td>No</td>\n",
              "      <td>No</td>\n",
              "      <td>Aamir Khan</td>\n",
              "      <td>Ketan Mehta</td>\n",
              "      <td>A.R. Rehman</td>\n",
              "      <td>675</td>\n",
              "      <td>370000000</td>\n",
              "      <td>525785000</td>\n",
              "    </tr>\n",
              "    <tr>\n",
              "      <th>3</th>\n",
              "      <td>Fanaa</td>\n",
              "      <td>Normal</td>\n",
              "      <td>No</td>\n",
              "      <td>No</td>\n",
              "      <td>love_story</td>\n",
              "      <td>No</td>\n",
              "      <td>No</td>\n",
              "      <td>No</td>\n",
              "      <td>Aamir Khan</td>\n",
              "      <td>Kunal Kohli</td>\n",
              "      <td>Jatin - Lalit</td>\n",
              "      <td>650</td>\n",
              "      <td>300000000</td>\n",
              "      <td>1054800000</td>\n",
              "    </tr>\n",
              "    <tr>\n",
              "      <th>4</th>\n",
              "      <td>Dangal</td>\n",
              "      <td>Holiday</td>\n",
              "      <td>No</td>\n",
              "      <td>No</td>\n",
              "      <td>drama</td>\n",
              "      <td>No</td>\n",
              "      <td>No</td>\n",
              "      <td>No</td>\n",
              "      <td>Aamir Khan</td>\n",
              "      <td>Nitish Tiwari</td>\n",
              "      <td>Pritam</td>\n",
              "      <td>4250</td>\n",
              "      <td>1320000000</td>\n",
              "      <td>7024750000</td>\n",
              "    </tr>\n",
              "  </tbody>\n",
              "</table>\n",
              "</div>\n",
              "    <div class=\"colab-df-buttons\">\n",
              "\n",
              "  <div class=\"colab-df-container\">\n",
              "    <button class=\"colab-df-convert\" onclick=\"convertToInteractive('df-2ca49772-090c-4d2b-876f-c64c49efcafb')\"\n",
              "            title=\"Convert this dataframe to an interactive table.\"\n",
              "            style=\"display:none;\">\n",
              "\n",
              "  <svg xmlns=\"http://www.w3.org/2000/svg\" height=\"24px\" viewBox=\"0 -960 960 960\">\n",
              "    <path d=\"M120-120v-720h720v720H120Zm60-500h600v-160H180v160Zm220 220h160v-160H400v160Zm0 220h160v-160H400v160ZM180-400h160v-160H180v160Zm440 0h160v-160H620v160ZM180-180h160v-160H180v160Zm440 0h160v-160H620v160Z\"/>\n",
              "  </svg>\n",
              "    </button>\n",
              "\n",
              "  <style>\n",
              "    .colab-df-container {\n",
              "      display:flex;\n",
              "      gap: 12px;\n",
              "    }\n",
              "\n",
              "    .colab-df-convert {\n",
              "      background-color: #E8F0FE;\n",
              "      border: none;\n",
              "      border-radius: 50%;\n",
              "      cursor: pointer;\n",
              "      display: none;\n",
              "      fill: #1967D2;\n",
              "      height: 32px;\n",
              "      padding: 0 0 0 0;\n",
              "      width: 32px;\n",
              "    }\n",
              "\n",
              "    .colab-df-convert:hover {\n",
              "      background-color: #E2EBFA;\n",
              "      box-shadow: 0px 1px 2px rgba(60, 64, 67, 0.3), 0px 1px 3px 1px rgba(60, 64, 67, 0.15);\n",
              "      fill: #174EA6;\n",
              "    }\n",
              "\n",
              "    .colab-df-buttons div {\n",
              "      margin-bottom: 4px;\n",
              "    }\n",
              "\n",
              "    [theme=dark] .colab-df-convert {\n",
              "      background-color: #3B4455;\n",
              "      fill: #D2E3FC;\n",
              "    }\n",
              "\n",
              "    [theme=dark] .colab-df-convert:hover {\n",
              "      background-color: #434B5C;\n",
              "      box-shadow: 0px 1px 3px 1px rgba(0, 0, 0, 0.15);\n",
              "      filter: drop-shadow(0px 1px 2px rgba(0, 0, 0, 0.3));\n",
              "      fill: #FFFFFF;\n",
              "    }\n",
              "  </style>\n",
              "\n",
              "    <script>\n",
              "      const buttonEl =\n",
              "        document.querySelector('#df-2ca49772-090c-4d2b-876f-c64c49efcafb button.colab-df-convert');\n",
              "      buttonEl.style.display =\n",
              "        google.colab.kernel.accessAllowed ? 'block' : 'none';\n",
              "\n",
              "      async function convertToInteractive(key) {\n",
              "        const element = document.querySelector('#df-2ca49772-090c-4d2b-876f-c64c49efcafb');\n",
              "        const dataTable =\n",
              "          await google.colab.kernel.invokeFunction('convertToInteractive',\n",
              "                                                    [key], {});\n",
              "        if (!dataTable) return;\n",
              "\n",
              "        const docLinkHtml = 'Like what you see? Visit the ' +\n",
              "          '<a target=\"_blank\" href=https://colab.research.google.com/notebooks/data_table.ipynb>data table notebook</a>'\n",
              "          + ' to learn more about interactive tables.';\n",
              "        element.innerHTML = '';\n",
              "        dataTable['output_type'] = 'display_data';\n",
              "        await google.colab.output.renderOutput(dataTable, element);\n",
              "        const docLink = document.createElement('div');\n",
              "        docLink.innerHTML = docLinkHtml;\n",
              "        element.appendChild(docLink);\n",
              "      }\n",
              "    </script>\n",
              "  </div>\n",
              "\n",
              "\n",
              "<div id=\"df-aee88bea-df97-4abe-a6e0-8eb3c81d965e\">\n",
              "  <button class=\"colab-df-quickchart\" onclick=\"quickchart('df-aee88bea-df97-4abe-a6e0-8eb3c81d965e')\"\n",
              "            title=\"Suggest charts\"\n",
              "            style=\"display:none;\">\n",
              "\n",
              "<svg xmlns=\"http://www.w3.org/2000/svg\" height=\"24px\"viewBox=\"0 0 24 24\"\n",
              "     width=\"24px\">\n",
              "    <g>\n",
              "        <path d=\"M19 3H5c-1.1 0-2 .9-2 2v14c0 1.1.9 2 2 2h14c1.1 0 2-.9 2-2V5c0-1.1-.9-2-2-2zM9 17H7v-7h2v7zm4 0h-2V7h2v10zm4 0h-2v-4h2v4z\"/>\n",
              "    </g>\n",
              "</svg>\n",
              "  </button>\n",
              "\n",
              "<style>\n",
              "  .colab-df-quickchart {\n",
              "      --bg-color: #E8F0FE;\n",
              "      --fill-color: #1967D2;\n",
              "      --hover-bg-color: #E2EBFA;\n",
              "      --hover-fill-color: #174EA6;\n",
              "      --disabled-fill-color: #AAA;\n",
              "      --disabled-bg-color: #DDD;\n",
              "  }\n",
              "\n",
              "  [theme=dark] .colab-df-quickchart {\n",
              "      --bg-color: #3B4455;\n",
              "      --fill-color: #D2E3FC;\n",
              "      --hover-bg-color: #434B5C;\n",
              "      --hover-fill-color: #FFFFFF;\n",
              "      --disabled-bg-color: #3B4455;\n",
              "      --disabled-fill-color: #666;\n",
              "  }\n",
              "\n",
              "  .colab-df-quickchart {\n",
              "    background-color: var(--bg-color);\n",
              "    border: none;\n",
              "    border-radius: 50%;\n",
              "    cursor: pointer;\n",
              "    display: none;\n",
              "    fill: var(--fill-color);\n",
              "    height: 32px;\n",
              "    padding: 0;\n",
              "    width: 32px;\n",
              "  }\n",
              "\n",
              "  .colab-df-quickchart:hover {\n",
              "    background-color: var(--hover-bg-color);\n",
              "    box-shadow: 0 1px 2px rgba(60, 64, 67, 0.3), 0 1px 3px 1px rgba(60, 64, 67, 0.15);\n",
              "    fill: var(--button-hover-fill-color);\n",
              "  }\n",
              "\n",
              "  .colab-df-quickchart-complete:disabled,\n",
              "  .colab-df-quickchart-complete:disabled:hover {\n",
              "    background-color: var(--disabled-bg-color);\n",
              "    fill: var(--disabled-fill-color);\n",
              "    box-shadow: none;\n",
              "  }\n",
              "\n",
              "  .colab-df-spinner {\n",
              "    border: 2px solid var(--fill-color);\n",
              "    border-color: transparent;\n",
              "    border-bottom-color: var(--fill-color);\n",
              "    animation:\n",
              "      spin 1s steps(1) infinite;\n",
              "  }\n",
              "\n",
              "  @keyframes spin {\n",
              "    0% {\n",
              "      border-color: transparent;\n",
              "      border-bottom-color: var(--fill-color);\n",
              "      border-left-color: var(--fill-color);\n",
              "    }\n",
              "    20% {\n",
              "      border-color: transparent;\n",
              "      border-left-color: var(--fill-color);\n",
              "      border-top-color: var(--fill-color);\n",
              "    }\n",
              "    30% {\n",
              "      border-color: transparent;\n",
              "      border-left-color: var(--fill-color);\n",
              "      border-top-color: var(--fill-color);\n",
              "      border-right-color: var(--fill-color);\n",
              "    }\n",
              "    40% {\n",
              "      border-color: transparent;\n",
              "      border-right-color: var(--fill-color);\n",
              "      border-top-color: var(--fill-color);\n",
              "    }\n",
              "    60% {\n",
              "      border-color: transparent;\n",
              "      border-right-color: var(--fill-color);\n",
              "    }\n",
              "    80% {\n",
              "      border-color: transparent;\n",
              "      border-right-color: var(--fill-color);\n",
              "      border-bottom-color: var(--fill-color);\n",
              "    }\n",
              "    90% {\n",
              "      border-color: transparent;\n",
              "      border-bottom-color: var(--fill-color);\n",
              "    }\n",
              "  }\n",
              "</style>\n",
              "\n",
              "  <script>\n",
              "    async function quickchart(key) {\n",
              "      const quickchartButtonEl =\n",
              "        document.querySelector('#' + key + ' button');\n",
              "      quickchartButtonEl.disabled = true;  // To prevent multiple clicks.\n",
              "      quickchartButtonEl.classList.add('colab-df-spinner');\n",
              "      try {\n",
              "        const charts = await google.colab.kernel.invokeFunction(\n",
              "            'suggestCharts', [key], {});\n",
              "      } catch (error) {\n",
              "        console.error('Error during call to suggestCharts:', error);\n",
              "      }\n",
              "      quickchartButtonEl.classList.remove('colab-df-spinner');\n",
              "      quickchartButtonEl.classList.add('colab-df-quickchart-complete');\n",
              "    }\n",
              "    (() => {\n",
              "      let quickchartButtonEl =\n",
              "        document.querySelector('#df-aee88bea-df97-4abe-a6e0-8eb3c81d965e button');\n",
              "      quickchartButtonEl.style.display =\n",
              "        google.colab.kernel.accessAllowed ? 'block' : 'none';\n",
              "    })();\n",
              "  </script>\n",
              "</div>\n",
              "\n",
              "    </div>\n",
              "  </div>\n"
            ],
            "application/vnd.google.colaboratory.intrinsic+json": {
              "type": "dataframe",
              "variable_name": "movies_data",
              "summary": "{\n  \"name\": \"movies_data\",\n  \"rows\": 1698,\n  \"fields\": [\n    {\n      \"column\": \"Movie Name\",\n      \"properties\": {\n        \"dtype\": \"string\",\n        \"num_unique_values\": 1695,\n        \"samples\": [\n          \"Husn - Love & Betrayal\",\n          \"Red Swastik\",\n          \"A Flying Jatt\"\n        ],\n        \"semantic_type\": \"\",\n        \"description\": \"\"\n      }\n    },\n    {\n      \"column\": \"Release Period\",\n      \"properties\": {\n        \"dtype\": \"category\",\n        \"num_unique_values\": 2,\n        \"samples\": [\n          \"Normal\",\n          \"Holiday\"\n        ],\n        \"semantic_type\": \"\",\n        \"description\": \"\"\n      }\n    },\n    {\n      \"column\": \"Whether Remake\",\n      \"properties\": {\n        \"dtype\": \"category\",\n        \"num_unique_values\": 2,\n        \"samples\": [\n          \"No\",\n          \"Yes\"\n        ],\n        \"semantic_type\": \"\",\n        \"description\": \"\"\n      }\n    },\n    {\n      \"column\": \"Whether Franchise\",\n      \"properties\": {\n        \"dtype\": \"category\",\n        \"num_unique_values\": 2,\n        \"samples\": [\n          \"Yes\",\n          \"No\"\n        ],\n        \"semantic_type\": \"\",\n        \"description\": \"\"\n      }\n    },\n    {\n      \"column\": \"Genre\",\n      \"properties\": {\n        \"dtype\": \"category\",\n        \"num_unique_values\": 14,\n        \"samples\": [\n          \"fantasy\",\n          \"mythological\"\n        ],\n        \"semantic_type\": \"\",\n        \"description\": \"\"\n      }\n    },\n    {\n      \"column\": \"New Actor\",\n      \"properties\": {\n        \"dtype\": \"category\",\n        \"num_unique_values\": 2,\n        \"samples\": [\n          \"Yes\",\n          \"No\"\n        ],\n        \"semantic_type\": \"\",\n        \"description\": \"\"\n      }\n    },\n    {\n      \"column\": \"New Director\",\n      \"properties\": {\n        \"dtype\": \"category\",\n        \"num_unique_values\": 2,\n        \"samples\": [\n          \"No\",\n          \"Yes\"\n        ],\n        \"semantic_type\": \"\",\n        \"description\": \"\"\n      }\n    },\n    {\n      \"column\": \"New Music Director\",\n      \"properties\": {\n        \"dtype\": \"category\",\n        \"num_unique_values\": 2,\n        \"samples\": [\n          \"Yes\",\n          \"No\"\n        ],\n        \"semantic_type\": \"\",\n        \"description\": \"\"\n      }\n    },\n    {\n      \"column\": \"Lead Star\",\n      \"properties\": {\n        \"dtype\": \"category\",\n        \"num_unique_values\": 764,\n        \"samples\": [\n          \"Mohammad Iqbal Khan\",\n          \"Jason Lewis\"\n        ],\n        \"semantic_type\": \"\",\n        \"description\": \"\"\n      }\n    },\n    {\n      \"column\": \"Director\",\n      \"properties\": {\n        \"dtype\": \"string\",\n        \"num_unique_values\": 1048,\n        \"samples\": [\n          \"Jaganath S.R.\",\n          \"Deepesh Shah\"\n        ],\n        \"semantic_type\": \"\",\n        \"description\": \"\"\n      }\n    },\n    {\n      \"column\": \"Music Director\",\n      \"properties\": {\n        \"dtype\": \"category\",\n        \"num_unique_values\": 630,\n        \"samples\": [\n          \"DJ Aqeel\",\n          \"Sony Chandy\"\n        ],\n        \"semantic_type\": \"\",\n        \"description\": \"\"\n      }\n    },\n    {\n      \"column\": \"Number of Screens\",\n      \"properties\": {\n        \"dtype\": \"number\",\n        \"std\": 782,\n        \"min\": 1,\n        \"max\": 4600,\n        \"num_unique_values\": 147,\n        \"samples\": [\n          115,\n          275\n        ],\n        \"semantic_type\": \"\",\n        \"description\": \"\"\n      }\n    },\n    {\n      \"column\": \"Revenue(INR)\",\n      \"properties\": {\n        \"dtype\": \"number\",\n        \"std\": 243483827,\n        \"min\": 325000,\n        \"max\": 2100000000,\n        \"num_unique_values\": 184,\n        \"samples\": [\n          12500000,\n          60000000\n        ],\n        \"semantic_type\": \"\",\n        \"description\": \"\"\n      }\n    },\n    {\n      \"column\": \"Budget(INR)\",\n      \"properties\": {\n        \"dtype\": \"number\",\n        \"std\": 613439812,\n        \"min\": 7250,\n        \"max\": 8016120000,\n        \"num_unique_values\": 1104,\n        \"samples\": [\n          6325000,\n          515300000\n        ],\n        \"semantic_type\": \"\",\n        \"description\": \"\"\n      }\n    }\n  ]\n}"
            }
          },
          "metadata": {},
          "execution_count": 8
        }
      ]
    },
    {
      "cell_type": "code",
      "source": [
        "# number of rows and columns in the data frame\n",
        "\n",
        "movies_data.shape"
      ],
      "metadata": {
        "colab": {
          "base_uri": "https://localhost:8080/"
        },
        "id": "vR7We307GZIV",
        "outputId": "2bc12850-3f0b-48be-9f87-9ab2987636a0"
      },
      "execution_count": 9,
      "outputs": [
        {
          "output_type": "execute_result",
          "data": {
            "text/plain": [
              "(1698, 14)"
            ]
          },
          "metadata": {},
          "execution_count": 9
        }
      ]
    },
    {
      "cell_type": "code",
      "source": [
        "# selecting the relevant features for recommendation\n",
        "\n",
        "selected_features = ['Genre','Lead Star','Director','Music Director']\n",
        "print(selected_features)"
      ],
      "metadata": {
        "colab": {
          "base_uri": "https://localhost:8080/"
        },
        "id": "oolg-tKKHZiO",
        "outputId": "a2dec762-d8da-46e4-c406-1091b3c5079f"
      },
      "execution_count": 12,
      "outputs": [
        {
          "output_type": "stream",
          "name": "stdout",
          "text": [
            "['Genre', 'Lead Star', 'Director', 'Music Director']\n"
          ]
        }
      ]
    },
    {
      "cell_type": "code",
      "source": [
        "# replacing the null valuess with null string\n",
        "\n",
        "for feature in selected_features:\n",
        "  movies_data[feature] = movies_data[feature].fillna('')"
      ],
      "metadata": {
        "id": "9SWNR2VJI3yH"
      },
      "execution_count": 14,
      "outputs": []
    },
    {
      "cell_type": "code",
      "source": [
        "# combining all the 5 selected features\n",
        "\n",
        "combined_features = movies_data['Genre']+' '+movies_data['Lead Star']+' '+movies_data['Director']+' '+movies_data['Music Director']"
      ],
      "metadata": {
        "id": "L5-PscrVKWXB"
      },
      "execution_count": 15,
      "outputs": []
    },
    {
      "cell_type": "code",
      "source": [
        "print(combined_features)"
      ],
      "metadata": {
        "colab": {
          "base_uri": "https://localhost:8080/"
        },
        "id": "OJX4M26SLI8x",
        "outputId": "394fc300-e15a-45dd-cf43-3d89537c5751"
      },
      "execution_count": 16,
      "outputs": [
        {
          "output_type": "stream",
          "name": "stdout",
          "text": [
            "0           action Aamir Khan A.R. Murugadoss A.R. Rehman\n",
            "1       drama Aamir Khan Aamir Khan Shankar - Ehsaan -...\n",
            "2                drama Aamir Khan Ketan Mehta A.R. Rehman\n",
            "3         love_story Aamir Khan Kunal Kohli Jatin - Lalit\n",
            "4                   drama Aamir Khan Nitish Tiwari Pritam\n",
            "                              ...                        \n",
            "1693               action Zayed Khan Vikram Chopra Pritam\n",
            "1694    drama Zeenat Aman Sanghamitra Chaudhuri Dev Si...\n",
            "1695               drama Zeenat Aman Sanjay Sharma Nikhil\n",
            "1696                 drama Zulfi Sayed Akbar Khan Naushad\n",
            "1697       comedy Zulfi Sayed Partho Ghosh Rishi - Ranjit\n",
            "Length: 1698, dtype: object\n"
          ]
        }
      ]
    },
    {
      "cell_type": "code",
      "source": [
        "# converting the text data to feature vectors\n",
        "\n",
        "vectorizer = TfidfVectorizer()"
      ],
      "metadata": {
        "id": "7-myTY3wLWoh"
      },
      "execution_count": 17,
      "outputs": []
    },
    {
      "cell_type": "code",
      "source": [
        "feature_vectors = vectorizer.fit_transform(combined_features)"
      ],
      "metadata": {
        "id": "3d_K1ppiLaIn"
      },
      "execution_count": 18,
      "outputs": []
    },
    {
      "cell_type": "code",
      "source": [
        "print(feature_vectors)"
      ],
      "metadata": {
        "colab": {
          "base_uri": "https://localhost:8080/"
        },
        "id": "JBJm3redLb3T",
        "outputId": "893f9d11-97cd-4815-98ee-54cec3c0f3c3"
      },
      "execution_count": 19,
      "outputs": [
        {
          "output_type": "stream",
          "name": "stdout",
          "text": [
            "  (0, 1724)\t0.43860129565326167\n",
            "  (0, 1351)\t0.6099591365587244\n",
            "  (0, 1029)\t0.2724361097267505\n",
            "  (0, 9)\t0.5149285004198801\n",
            "  (0, 36)\t0.3101708573546253\n",
            "  (1, 1148)\t0.29864467337852396\n",
            "  (1, 618)\t0.29864467337852396\n",
            "  (1, 1958)\t0.27089575468893723\n",
            "  (1, 601)\t0.12557526701110733\n",
            "  (1, 1029)\t0.40024028607249357\n",
            "  (1, 9)\t0.7564897712041307\n",
            "  (2, 1269)\t0.446577338549715\n",
            "  (2, 1024)\t0.5785336853783694\n",
            "  (2, 601)\t0.15579005690468076\n",
            "  (2, 1724)\t0.3996977195793034\n",
            "  (2, 1029)\t0.24827124969307934\n",
            "  (2, 9)\t0.46925476373176306\n",
            "  (3, 1119)\t0.3990548575636311\n",
            "  (3, 882)\t0.42282265012774745\n",
            "  (3, 1072)\t0.4140319138747285\n",
            "  (3, 1100)\t0.4099966070967031\n",
            "  (3, 1146)\t0.2642045470071369\n",
            "  (3, 1029)\t0.23506501267320634\n",
            "  (3, 9)\t0.44429380010747227\n",
            "  (4, 1586)\t0.3282806523194367\n",
            "  :\t:\n",
            "  (1694, 446)\t0.4383912726792431\n",
            "  (1694, 1859)\t0.4383912726792431\n",
            "  (1694, 2429)\t0.41543963354443136\n",
            "  (1694, 538)\t0.3369674610324621\n",
            "  (1694, 107)\t0.353251908153635\n",
            "  (1694, 601)\t0.11187138413214087\n",
            "  (1695, 2429)\t0.5775415079879682\n",
            "  (1695, 107)\t0.4910885319102754\n",
            "  (1695, 1429)\t0.428251653540145\n",
            "  (1695, 1968)\t0.32423886650580747\n",
            "  (1695, 1861)\t0.335499885465429\n",
            "  (1695, 601)\t0.1555228790790559\n",
            "  (1696, 1403)\t0.5239754276241432\n",
            "  (1696, 2437)\t0.4965430956417108\n",
            "  (1696, 1911)\t0.46198244463609217\n",
            "  (1696, 84)\t0.44964721436964117\n",
            "  (1696, 601)\t0.13371127573160452\n",
            "  (1696, 1029)\t0.2130859066586807\n",
            "  (1697, 2437)\t0.46100644545025543\n",
            "  (1697, 1911)\t0.42891923486895367\n",
            "  (1697, 1686)\t0.3919977618336946\n",
            "  (1697, 1740)\t0.36889934643147665\n",
            "  (1697, 688)\t0.34183997137197886\n",
            "  (1697, 1518)\t0.4077839295731247\n",
            "  (1697, 477)\t0.17495735162279144\n"
          ]
        }
      ]
    },
    {
      "cell_type": "markdown",
      "source": [
        "Cosine Similarity"
      ],
      "metadata": {
        "id": "ygValalcL0J9"
      }
    },
    {
      "cell_type": "code",
      "source": [
        "# getting the similarity scores using cosine similarity\n",
        "\n",
        "similarity = cosine_similarity(feature_vectors)"
      ],
      "metadata": {
        "id": "5_1Vzh_MLrCJ"
      },
      "execution_count": 20,
      "outputs": []
    },
    {
      "cell_type": "code",
      "source": [
        "print(similarity)"
      ],
      "metadata": {
        "colab": {
          "base_uri": "https://localhost:8080/"
        },
        "id": "ZoODMOjXL4tH",
        "outputId": "aef8774c-dd8e-4528-c649-a549fd4b5718"
      },
      "execution_count": 21,
      "outputs": [
        {
          "output_type": "stream",
          "name": "stdout",
          "text": [
            "[[1.         0.49857805 0.48457864 ... 0.         0.0580523  0.        ]\n",
            " [0.49857805 1.         0.47391796 ... 0.01952983 0.10207639 0.        ]\n",
            " [0.48457864 0.47391796 1.         ... 0.02422892 0.07373399 0.        ]\n",
            " ...\n",
            " [0.         0.01952983 0.02422892 ... 1.         0.02079516 0.        ]\n",
            " [0.0580523  0.10207639 0.07373399 ... 0.02079516 1.         0.42706272]\n",
            " [0.         0.         0.         ... 0.         0.42706272 1.        ]]\n"
          ]
        }
      ]
    },
    {
      "cell_type": "markdown",
      "source": [
        "Getting movie name from user"
      ],
      "metadata": {
        "id": "y6ry4rglMBVN"
      }
    },
    {
      "cell_type": "code",
      "source": [
        "# getting the movie name from the user\n",
        "\n",
        "movie_name = input(' Enter your favourite movie name : ')"
      ],
      "metadata": {
        "colab": {
          "base_uri": "https://localhost:8080/"
        },
        "id": "ifrAPqkFMA-A",
        "outputId": "6e50524f-0661-4edf-831e-66f126b46583"
      },
      "execution_count": 22,
      "outputs": [
        {
          "name": "stdout",
          "output_type": "stream",
          "text": [
            " Enter your favourite movie name : 3 idiots\n"
          ]
        }
      ]
    },
    {
      "cell_type": "code",
      "source": [
        "# creating a list with all the movie names given in the dataset\n",
        "\n",
        "list_of_all_titles = movies_data['Movie Name'].tolist()\n",
        "print(list_of_all_titles)"
      ],
      "metadata": {
        "colab": {
          "base_uri": "https://localhost:8080/"
        },
        "id": "Mh2LXKviMUr7",
        "outputId": "fe1ed7b4-8f08-44d3-e48c-216b3689d00f"
      },
      "execution_count": 24,
      "outputs": [
        {
          "output_type": "stream",
          "name": "stdout",
          "text": [
            "['Ghajini', 'Taare Zameen Par', 'Mangal Pandey - The Rising', 'Fanaa', 'Dangal', '3 Idiots', 'Dirty Marriage', 'Future To Bright Hai Ji', 'Golden Boys', 'Kaccha Limboo', 'Not A Love Story', 'Qaidi Band', 'Chaatwali', 'Shuttlecock Boys', 'PK', 'Rang De Basanti', 'Talaash', 'Dhoom 3', 'Pyaar Mein Aisa Hota Hai', 'Gurjar Aandolan - A Fight For Right', 'Yehi Hai High Society', 'Say Yes To Love', 'Dreams - Sapnay Sach Honge...', 'Three - Love Lies Betrayal', 'Malegaon Me Gadbad Ghotala', 'Khota Sikka - Jaat Ke Thaath', 'Hi Fi Log', 'Dev D', 'One By Two', 'Oye Lucky! Lucky Oye!', 'Socha Na Tha', 'Happy Bhaag Jayegi', 'Manorama Six Feet Under', 'Honeymoon Travels Pvt. Ltd.', 'Ek Chalis Ki Last Local', 'Ahista Ahista', 'Lottery', 'Roar - Tigers Of The Sundarbans', 'Chakradhaar', 'Players', 'Game', 'Khelein Hum Jee Jaan Sey', 'Drona', 'Guru', 'Raavan', 'Delhi 6', 'Bluffmaster', 'Dum Maaro Dum', 'Bunty Aur Babli', 'Jhoom Barabar Jhoom', 'Dostana', 'All Is Well', 'Apne Ghayal Indian', 'Naya Pata', 'A Journey Of Samyak Buddha', 'Hum Hai Raahi Car Ke', 'Strings - Bound By Faith', 'Contract', 'Haal - E - Dil', 'Dehraadun Diary', 'Jashnn', 'Heartless', 'Zed Plus', 'For Real', 'Lessons In Forgetting', 'Poorna', 'Khanna & Iyer', 'Shaapit', 'Bandook', 'Fitoor', 'Daawat E Ishq', 'Aashiqui 2', 'Ok Jaanu', 'Yeh Jo Mohabbat Hai', 'Dil Se Poochh... Kidhar Jaana Hai', 'Ek Aur Murder', 'Feel - The Touch', '1920 - Evil Returns', 'Bin Bulaye Baraati', 'Jaane Hoga Kya', 'Aao Wish Karein', 'Darwaza Bandh Rakho', 'Koi Aap Sa', 'Aloo Chaat', 'Ankahee', 'Red - The Dark Side', 'My Friend Ganesha', 'Umrao Jaan', 'Provoked', 'The Mistress Of Spices', 'U Me Aur Hum', 'Shivaay', 'Blackmail', 'Cash', 'Atithi Tum Kab Jaoge?', 'Son Of Sardaar', 'Rascals', 'Main Aisa Hi Hoon', 'Shikhar', 'Insan', 'Zameer - The Fire Within', 'Toonpur Ka Superrhero', 'Dil Toh Baccha Hai Ji', 'Tango Charlie', 'Once Upon A Time In Mumbaai', 'Baadshaho', 'Drishyam', 'Action Jackson', 'Apaharan', 'Satyagraha', 'Aakrosh', 'Tezz', 'Halla Bol', 'Golmaal - Fun Unlimited', 'Sunday', 'Golmaal Returns', 'All The Best - Fun Begins', 'Golmaal 3', 'Singham', 'Bol Bachchan', 'Singham Returns', 'Golmaal Again', 'Himmatwala', 'Kaal', 'Omkara', 'Pal Pal Dil Ke Ssaat', 'Boyfriend.com', 'Jeet Lenge Jahaan', 'Angry Young Man', 'Jai Balaji Mehndipur Wale', 'The World Of Fashion', 'Lakeer Ka Fakeer', 'Calendar Girls', 'Bloody Isshq', 'Faraar', 'Alag', 'Holiday - A Soldier Is Never Off Duty', 'The Shaukeens', 'Welcome', 'Singh Is Kinng', 'Thank You', 'Blue', 'Boss', 'Khiladi 786', 'Bewafaa', 'Tees Maar Khan', 'Entertainment', 'Housefull 3', 'Brothers', 'Jumbo', 'Gabbar Is Back', 'Once Upon A Time In Mumbaai Dobaara!', '8 x 10 Tasveer', 'Special 26', 'Baby', 'Phir Hera Pheri', 'Chandni Chowk To China', 'Patiala House', 'Rowdy Rathore', 'Singh Is Bling', 'Garam Masala', 'Bhagam Bhag', 'Bhool Bhulaiyaa', 'De Dana Dan', 'Khatta Meetha', 'Humko Deewana Kar Gaye', 'Family - Ties of Blood', 'Desi Boyz', 'Kambakkht Ishq', 'Heyy Babyy', 'Housefull', 'Housefull 2', 'Jaan-E-Mann', 'Joker', 'Toilet Ek Prem Katha', 'Jolly LLB 2', 'Dosti - Friends Forever', 'Mere Jeevan Saathi', 'OMG! Oh My God', 'Tashan', 'Deewane Huye Paagal', 'Waqt - The Race Against Time', 'Namastey London', 'Action Replayy', 'Pizza', 'Isi Life Mein...!', '36 China Town', 'Naqaab', 'Dahek', 'Aap Ki Khatir', 'Gandhi My Father', 'Short Kut - The Con Is On', 'Mere Baap Pehle Aap', 'Shaadi Se Pehle', 'Vatsayanana Kamasutra - 2', 'Mr. Majnu', 'Romeo Bola Pyar Ki Aisi Ki Taisi', 'Sonali Cable', 'Khamoshiyan', 'Always Kabhi Kabhi', 'Baat Ban Gayi', 'Tere Bin Laden', 'London Paris New York', 'Chasme Baddoor', 'Total Siyaapa', 'Dear Zindagi', 'Kkamjori - The Weakness', 'Karma: Crime. Passion. Reincarnation', 'Ek Baar Dhol Bajao Na', 'Kamsin - The Untouched', 'Aakhari Decision', 'Iqraar By Chance', 'Runway', 'Me Mamu & 7', 'Hot Maliaka', 'Garam Saansein', 'Bach Ke Zaraa', 'Kaam Milan', 'Agni Prem', 'Aalaap', 'Miss Anara', '332 Mumbai to India', 'Running Shaadi', 'Ek Gumrah', '1971', 'Pink', 'Yaar Meri Zindagi', 'Teen Patti', 'Viruddh... Family Comes First', 'Bhoothnath Returns', 'Bbuddah Hoga Terra Baap', 'Cheeni Kum', 'Paa', 'Shamitabh', 'Sarkar', 'Nishabd', 'Ram Gopal Varma Ki Aag', 'Sarkar Raj', 'Sarkar 3', 'The Last Lear', 'Dil Jo Bhi Kahey', 'Black', 'Piku - Motion Se Hi Emotion', 'Eklavya - The Royal Guard', 'Bhoothnath', 'Jo Dooba So Paar', 'Staying Alive', 'Ghazab Nagariya', 'C D Kaand', 'Happy Husbands', 'No Entry', 'No Problem', \"My Wife's Murder\", 'Black & White', 'Mere Haule Dost', 'Om Dar-B-Dar', 'Admission Open', 'City Of Gold - Mumbai 1982: Ek Ankahi Kahani', 'Kahani Ek Sangharsh Ki', 'Yeh Hai Bakrapur', 'Mr Ya Miss', 'Miss Tanakpur Haazir Ho', 'Yeshu Palanhar', 'Perfect Mismatch', 'Resham Dunkkk', 'Chhutanki', '3 Nights 4 Days', 'Chase', 'Paranthe Wali Gali', 'Morning Walk', 'Khosla Ka Ghosla', 'Maine Gandhi Ko Nahin Mara', 'Mr. Bhatti On Chutti', 'Yeh Mera India', 'Ekkees Toppon Ki Salaami', 'American Blend', 'Sai Yatraa - A Religious Love Story', 'Retake', 'Prem Kaa Game', 'Kisaan', 'Tera Intezaar', 'Dee Saturday Night', 'Chalo Picnic Manayen', \"I'm In Love\", '2 States', 'Tevar', 'Mubarakan', 'Aurangzeb', 'Ishaqzaade', 'Half Girlfriend', 'Time Pass', 'Ek Ajnabee', 'Daddy', 'D Day', 'Chakravyuh', 'Vaada', 'Inkaar', 'Elaan', 'I See You', 'Lekar Hum Deewana Dil', 'Yeh Figure Hai', 'Bin Phere Free Me Ttere', 'Kisse Pyaar Karoon', 'Rabba Main Kya Karoon', 'Welcome 2 Karachi', 'Krazzy 4', 'Sehar', 'Hum Tum Aur Ghost', 'Anthony Kaun Hai?', 'Kuchh Meetha Ho Jaye', 'Mr. Joe B. Carvalho', 'Jolly LLB', 'Guddu Rangeela', 'Ek Se Bure Do', 'Mirch', 'Charitraheen - Ek Naari Ki Vyatha', 'Paapi - Ek Satya Katha', 'Raftaar - An Obsession', 'Aisa Kyon Hota Hai', 'Mr. 100% - The Real Player', 'Ghutan', 'Good Luck', \"It's Rocking Dard-E-Disco\", 'Ek Aadat', 'Kyun Hua Achanak', 'Mai', 'Mumbai Can Dance Saalaa', 'With Love, Delhi!', 'Nazar', 'Saanwariya - Khatu Shyamji Ki Amar Gaatha', 'Love In Bombay', 'College Campus', 'Vidhata Tere Khel Hain Nirale', 'Coffee House', 'Shabnam Mousi', 'Dhadkanein', 'Gauri The Unborn', 'Manasarovar', 'Aagaah - The Warning', 'Bumm Bumm Bole', 'Baba Ramsaa Peer', 'Zindagi Jalebi', 'Ada....A Way of life', 'Dor', 'Mod', 'Sarfaroshi - A War Against System', 'Meri Pyaari Bindu', 'Bareilly Ki Barfi', 'Bewakoofiyaan', 'Shubh Mangal Saavdhan', 'Nautanki Saala', 'Dum Laga Ke Haisha', 'Vicky Donor', 'Hawaizaada', 'Qasam Se Qasam Se', 'Main Aur Mr. Riight', 'Janani', 'Wife Hai To Life Hai', 'Cigarette Ki Tarah', 'Aatma', 'Corporate', 'Chehraa', 'Pankh', 'Creature 3D', 'Yaad Rakhenge Aap', 'Humko Tumse Pyaar Hai', 'Chamku', 'Help', 'Nanhe Jaisalmer', 'Vaada Raha...', 'Ek - The Power Of One', 'Barsaat', 'Shaka Laka Boom Boom', 'Jurm', 'London Calling', 'Santa Banta Pvt. Ltd.', 'Shirin Farhad Ki Toh Nikal Padi', 'Well Done Abba', 'Ooops A Desi', 'Accident On Hill Road', 'Ek Main Ek Tum', 'MLA', 'Laash - The Deadly Revenge', 'Prague', 'Love You To Death', 'Maruti Mera Dosst', 'Prem Mayee', 'Mokssh', 'Miley Naa Miley Hum', 'Wake Up India', 'Fruit & Nut', 'Frozen', 'Dilli Gang', 'Zokkomon', 'Today Expose', 'Diwangi Ne Had Kar Di', 'The Light - Swami Vivekananda', 'Daayen Ya Baayen', 'Chor Chor Super Chor', 'Chal Bhaag', 'Vikalp', 'Finding Fanny', 'Yeh Dooriyaan', 'Rivaaz', 'Memories in March', 'Bubble Gum', 'Mr. Prime Minister', 'Chargesheet', 'Aman Ke Farisshtey', 'Karavaas - The Punishment', '9 Eleven', 'Jalsa Ghar Ki Devi', 'Ram Balram Aur Ramkali', 'Raanjhanaa', 'Second Hand Husband', 'Humraah - The Traitor', 'Naam Gum Jaayega', 'B.A. Pass', 'Pairon Talle', 'Phillauri', 'Bollywood Villa', 'Phir Aik Saazish', 'What The Fish', 'Har Raat Naya Saudagar', 'Maya Ya Maut', 'Anamika', 'Tom Dick and Harry', 'Gumnaam - The Mystery', 'Bhram', 'Holiday', 'Life Mein Kabhi Kabhiee', 'Anuradha - Aur Uski Kahaani', 'Pehli Nazar Ka Pyaar', 'Saathi - The Companion', 'Kahaani Gudiya Ki...', 'Monica', 'Shobhayatra', 'Lucky Kabootar', 'Tell Me O Kkhuda', 'Aashiq Banaye Aapne', 'Dil Diya Hai', 'Aksar', 'Azhar', 'Gangster - A Love Story', 'Good Boy Bad Boy', 'Shanghai', 'Jannat', 'Tum Mile', 'Jannat 2', 'Raja Natwarlal', 'Jawani Diwani - A Youtful Joyride', 'Zeher', 'Awarapan', 'Raaz - The Mystery Continues', 'Crook', 'Murder 2', 'Hamari Adhuri Kahani', 'Ghanchakkar', 'The Killer', 'The Train', 'Ungli', 'Rush', 'Raaz 3', 'Mr. X', 'Raaz Reboot', 'Chocolate', 'Siyaah', 'Chand Bujh Gaya', 'Shaadi No. 1', 'Just Married', 'Dulha Mil Gaya', 'Jai Veeru', 'Darling', 'Ek Khiladi Ek Haseena', 'Acid Factory', 'Rock On!!', 'Wazir', 'Bhaag Milkha Bhaag', 'Lucknow Central', 'Shaadi Ke Side Effects', 'Rock On 2', 'Karthik Calling Karthik', 'Luck By Chance', 'Children Of War', 'Lahore', 'Barefoot To Goa', 'Main Hoon Durga', 'Khoobsurat', 'Aaj Ka Fashion Trend', 'Tum Ho Yaara', 'Na Jaane Kabse', 'Muskurake Dekh Zara', 'Vroom', 'Hota Hai Dil Pyaar Mein Paagal', 'Bad Luck Govind', 'Bhooton Ki Raasleela', 'Go', 'Shoot At Sight', \"Let's Dance\", 'Will To Live', 'Ramaiya Vastavaiya', 'Loveshhuda', 'Sandwich', 'Do Knot Disturb', 'Money Hai Toh Honey Hai', 'Khullam Khulla Pyaar Karen', 'Naughty @ 40', 'Jahan Jaaeyega Humen Paaeyega', 'Deewana Main Deewana', 'Ssukh', 'Loot', 'Life Partner', 'Chal Chala Chal', 'Yehi Hai Zindagi', 'Mahabharat Aur Barbareek', 'Chanchal', 'Dekh Re Dekh', 'Milta Hai Chance By Chance', 'Aseema', 'Meri Marzi', 'Hello Darling', 'Red Light', 'The Real Dream Girl', 'I Am Singh', 'The Dirty MMS', 'Meri Shadi Karao', 'MSG - The Warrior Lion Heart', 'Hind Ka Napak Ko Jawab - MSG Lion Heart-2', 'Jattu Engineer', 'MSG - The Messenger Of God', 'MSG 2 - The Messenger', 'Banana Brothers', 'Lateef - The King Of Crime', 'Bengaloored', 'Victory', 'Love Story 2050', 'Dishkiyaoon', 'My Friend Ganesha 2', 'I Am Kalam', 'Jigariyaa', 'Mirzya', 'Sanam Teri Kasam', 'Ek Thi Rani Aisi Bhi', '2 Nights In Soul Valley', 'Yaariyan', 'Ranchi Diaries', 'Login', 'Rain', 'The Xpose', 'Radio', 'Kajraare', 'Karzzzz', 'Teraa Surroor', 'Damadamm!', 'Aap Kaa Surroor', 'Www.Sheetal Bhabhi.com', 'Shaabash! You Can Do It!', '5ters: Castle of Dark Master', 'Jigyaasa', 'Kites', 'Jodhaa Akbar', 'Mohenjo Daro', 'Agneepath', 'Krrish', 'Krrish 3', 'Dhoom 2', 'Kaabil', 'Guzaarish', 'Bang Bang', 'Zindagi Na Milegi Dobara', 'Greater Elephant', 'Shree', 'Chaska - An Addiction', 'Aishwarya', 'Dil Dosti Etc', '404', 'Bhookh - The Hunger Of Body', 'Jaane Tu... Ya Jaane Na', 'Delhi Belly', 'Mere Brother Ki Dulhan', 'Break Ke Baad', 'Katti Batti', 'I Hate Luv Storys', 'Gori Tere Pyaar Mein', 'Kidnap', 'Matru Ki Bijlee Ka Mandola', 'Ziyarat', 'Life In A Metro', 'Rog', 'Apna Asmaan', 'Talvar', 'Billu', 'Hindi Medium', 'Yeh Saali Zindagi', 'Qarib Qarib Singlle', 'Paan Singh Tomar', 'C U At 9', 'Shabri', 'Aashiqui.in', 'Ab To Jaago', 'Sixteen', 'Kaand - Black Scandal', 'Bhoot Returns', 'Daal Mein Kuch Kaala Hai!', 'Thodi Life Thoda Magic', 'Maalik Ek', 'Married To America', 'Musaa - The Most Wanted', 'We R Friends', 'Dilliwali Zaalim Girlfriend', 'Bhoot And Friends', 'Kahin Hai Mera Pyar', 'Hum Do Anjaane', 'Bhoot Unkle', 'Ek Second... Jo Zindagi Badal De?', 'Vidyaarthi', 'Mera Dil Leke Dekkho', 'Kitkit + Cricket = Kirkit', 'Rangrezz', 'F.A.L.T.U', 'Ajab Gazabb Love', 'Youngistaan', 'Www.Love.com', 'My Bollywood Bride', 'Ye Stupid Pyar', 'The Forest', 'Love Songs', 'Bazaar-E-Husn', 'Ho Jaata Hai Pyar', 'Delhii Heights', 'Strangers', 'Victoria No. 203', 'Four Two Ka One', 'Chhodon Naa Yaar', 'Rehguzar', 'A Flat', 'Bachelor Party', 'Fugly', 'Umar', 'Silsiilay', 'Bas Ek Pal', 'Darr @ The Mall', 'Yahaan', 'Hastey Hastey - Follow Your Heart', 'Jhoota Hi Sahi', 'Force 2', 'Welcome Back', 'No Smoking', 'Water', 'Kabul Express', 'New York', 'I, Me Aur Main', 'Taxi Number 9 2 11', 'Aashayein', 'Force', 'Rocky Handsome', 'Dishoom', 'Karam', 'Shootout At Wadala', 'Madras Cafe', 'Dhan Dhana Dhan Goal', 'Mein Bikaaoo On Sale', '7 1/2 Phere', 'I Am', 'Main Hoon Krishna', 'Sardi Mein Garmi', 'Topless', '26th July At Barista', 'Main Tere Ishq Mein', 'Mudrank - The Stamp', 'We Are Family', 'Dhund Lenge Manzil Hum', 'That Girl in Yellow Boots', 'Margarita With A Straw', 'Janleva 555', 'Deshdrohi', 'Mumbai Xpress', 'Phaans - Ek Jasoos Ki Kahani', 'Simran', 'Revolver Rani', 'Queen', 'Rajjo', 'Myoho', 'Aatma', 'Nishaan - The Mark', 'Kis Kisko Pyaar Karoon', 'Firangi', 'Alone', 'Aakhri Deal', 'Love Possible', 'Rajula - A Tale From The Himalayas', 'Sadda Adda', 'Zid', 'Heroine', 'Ki & Ka', 'Ek Main Aur Ekk Tu', 'Dangerous Ishhq', 'Bachao Inside Bhoot Hai', 'Guest In London', 'Pyaar Ka Punchnama', 'Akaash Vani', 'Pyaar Ka Punchnama 2', 'Jhansi Ki Rani Laxmibai', 'Revati', 'Bumboo', 'Bhindi Bazaar Inc', 'Black Friday', 'Gulaal', 'Dansh', 'The Stoneman Murders', 'Rahasya', 'Mumbai Meri Jaan', 'Sankat City', 'Life Ki Toh Lag Gayi', 'Ankur Arora Murder Case', 'Benny And Babloo', 'Main Hoon Basanti Tangewali', 'Ladies First', 'It Can Be Dangerous - City Of Dreams', 'Sitam', 'Jalwa - Fun In Love', 'Just 47 - Hum Bhi Insaan Hai', 'Shudra - The Rising', 'Mummy Punjabi', 'Saas Bahu Aur Sensex', 'Indu Sarkar', \"It's Breaking News\", 'Mumbai 118', 'Lipstick Under My Burkha', 'Page 3', 'Chai Pani Etc...', 'Amu', 'U Bomsi N Me', 'Love King Murder', 'Aur Pappu Pass Ho Gaya', 'Shringaar', 'Rooh', 'Gailya - The Ghost Of Night', 'Hattrick', 'Luv Shuv Tey Chicken Khurana', 'Raag Desh', '99', 'Traffic Signal', 'Kalyug', 'Superstar', 'Dhoondte Reh Jaoge', 'Blood Money', 'Mumbai Shooters', 'Titar Fanda - A Death Trap', 'Rajdhani Express', 'Delhi In A Day', 'W', 'Before The Rains', 'Kasak', 'Rise Of The Zombie', 'Sadiyaan', 'Rakhtbeej', 'Kabhi Socha Bhi Na Tha', 'Aaja Nachle', 'Gulaab Gang', 'Jimmy', 'The Murderer', 'Haunted 3D', 'Be Parda', 'Saheb Biwi Aur Gangster', 'Saheb Biwi Aur Gangster Returns', 'Kudiyon Ka Hai Zamana', 'The Film', 'Souten - The Other Woman', 'Bachke Rehna Re Baba', 'Hisss', 'Dirty Politics', 'Ugly Aur Pagli', 'Maan Gaye Mughall-E-Azam', 'Sau Jhooth Ek Sach', 'Ek Pyaar Aisa Bhi', 'Vishwas - The Power Of Faith', 'Meerabai Not Out', 'Trip To Bhangarh', 'Tere Bin Laden - Dead Or Alive', 'Mickey Virus', 'Anjaane - The Unknown', 'Chaahat Ek Nasha...', 'Tulsi', 'Sirf....', 'Life Is Beautiful!', 'Dus Tola', 'Jugaad', 'Gangs Of Wasseypur 1', 'Chittagong', 'Fareb', 'Swami', 'Aligarh', 'Lanka', 'Traffic', 'The Dirty Relation', 'Chaahat Ek Ehsaas', 'Ya Rab', 'Hum Tum Dushman Dushman', 'Hum Sey Hai Jahaan', 'Thanks Maa', 'Bhadaas', '5 Ghantey Mein 5 Crore', 'Bad Friend', 'Mashooka', 'Hum Tum Aur Mom', 'Love Lies And Seeta', 'Tezaab - The Acid of Love', 'Balwinder Singh... Famous Ho Gaya', 'U R My Jaan', 'Husn Bewafa', 'Karo Na... Pyaar', 'Humne Jeena Seekh Liya', 'Katputtli', 'Kaanchi', 'Don Muthu Swami', 'Baabarr', 'Zindagi Tere Naam', 'Enemmy', 'Classic Dance Of Love', 'Zor Lagaa Ke... Haiya!', 'Insaaf Ki Jung', 'Sun Zarra.....', 'Qatal-E-Aam', 'Chal Chalein', 'Unforgettable', 'Bullet Ek Dhamaka', 'Gattu', 'The Film Emotional Atyachar', 'Shiva', 'Second Marriage Dot Com', 'Dimaag Ki Dahi', 'Mumbai Mast Kallander', 'Love In Japan', 'Lakshmi', 'Bobby - Love & Lust', 'Ek Hi Bhool', 'Ek Chatur Naar', 'The Quest', 'Hello Zindagi', 'Young - The Powerful Blood', 'Tantiya Bheel', 'Chutki Bajaa Ke', 'Emptiness Tere Bina', 'Payback', 'Abhi To Raat Hai', 'Machine', 'Rang-E-Ishq', 'Dhokha', 'The Untold Story Aahinsa', 'Mohandas', 'Ab Tak Chhappan 2', 'Yatra', 'Tum Milo Toh Sahi', 'The Attacks Of 26/11', 'Shagird', 'Ek Alag Mausam', 'Maharana Pratap - The First Freedom Fighter', 'Pranali - The Tradition', 'Land Gold Women', 'Shadow', 'Ishqiya', 'Dedh Ishqiya', 'Waiting', 'Irada', 'Chaalis Chauraasi', 'Maximum', 'Sona Spa', 'Charlie Kay Chakkar Mein', 'Firaaq', 'A Wednesday!', 'Parzania', 'Barah Aana', 'Maharathi', 'Men Not Allowed', 'Anjunaa Beach', 'The Dark Secrets Of Tonhi', 'Khwaabb', 'Sulemani Keeda', 'Bhavnao Ko Samjho', 'Monsoon Shootout', 'Gangs Of Wasseypur 2', 'Raman Raghav 2.0', 'Manjhi - The Mountain Man', 'Babumoshai Bandookbaaz', 'Haraamkhor', 'Freaky Ali', 'Sheesha', 'Siskiyaan', 'Gandhi To Hitler', 'Tum Bin 2', 'Aa Dekhen Zara', 'Jail', 'Lafangey Parindey', '3G', 'Johnny Gaddaar', 'Shortcut Romeo', 'Bipasha - The Black Beauty', 'My Name is Anthony Gonsalves', 'Jaisi Karni Waisi Bharni', 'Angel', 'Yeh Metro Zindagi', 'Ek Thee Sanam', 'Badlapur Boys', 'Cycle Kick', 'Titoo MBA', 'Wah Re Ye Duniya', 'Shraddha Shakti Jai Ambe Maa', 'In The Name Of.. Tai - Tai Ke Naam', 'Agyaat', 'Love U Crazy Girl', 'Khap', 'Uvaa', 'Na Ghar Ke Na Ghaat Ke', 'Panga Naa Lo', 'Khallas', 'The Hangman', 'Peepli [Live]', 'Munna Mange Memsaab', 'Ebn-E-Batuta', 'Shivam', 'Dharm', 'Chala Mussaddi - Office Office', 'The Blue Umbrella', 'Hate Story', 'M3 - Midsummer Midnight Mumbai', 'Road  To Sangam', 'Dharam Sankat Mein', 'Yun Hota Toh Kya Hota', 'Buddha Mar Gaya', 'Kabhi Yun Bhi Toh Ho...', 'Vighnaharta Shree Siddhivinayak', 'Husn - Love & Betrayal', 'Stanley Ka Dabba', 'United Six', 'Sahi Dhandhe Galat Bande', 'Sikandar', 'Love Games', 'Chetna - The Excitement', 'Fun... Can Be Dangerous Sometimes', 'Mazaa Mazaa...', 'Laila - A Mystery', 'Hey Bholenath', 'Haunted Child', 'Khandala House', 'Nasha', 'Bahubali - The Beginning', 'Bahubali 2 - The Conclusion', 'Tutak Tutak Tutiya', 'ABCD - Any Body Can Dance', 'Last Benchers', 'Yeh Pal Ho Na Ho... Kal', 'Qayamat Hi Qayamat', 'Mr. Singh Mrs. Mehta', 'Ekk Deewana Tha', 'Issaq', 'My Friend Pinto', 'Jalpari - The Desert Mermaid', 'With Luv... Tumhaara', 'Videsh', 'Ishkq In Paris', 'Needar - The Fearless', 'Om Shanti - Fight For Peace', 'Shahrukh Bola Kubsoorat Hai Tu', 'Mere Gharib Nawaz', 'Sunsaan Mahal', \"What's Your Raashee\", 'Pyaar Impossible!', 'Fashion', 'Mary Kom', 'Jai Gangaajal', '7 Khoon Maaf', 'Koi Mere Dil Mein Hai', 'Utthaan', 'Sanam Re', 'Fukrey', 'Fukrey Returns', 'Bittoo Boss', 'O Teri', 'Junooniyat', 'Satya 2', 'Turning 30!!!', 'Jal', 'Kaun Ho Sakta Hai?', 'Hide & Seek', 'Tahaan', 'Meinu Ek Ladki Chaahiye', \"Huff! It's Too Much\", 'Tanu Weds Manu', 'Tanu Weds Manu Returns', 'Jodi Breakers', 'Ramji Londonwaley', 'Sachin - A Billion Dreams', '13B', 'Julie 2', 'Parched', 'Phobia', 'Mumbhai Connection', 'Le Gaya Saddam', 'Azaan - The Awakening Call', 'Chal Pichchur Banate Hain', 'Mumbai Aadhi Raat Mein', 'Yeh Hai U Turn', 'Mastram', 'The Japanese Wife', 'Kucch Luv Jaisa', 'Chain Kulii Ki Main Kulii', 'Pyaar Ke Side Effects', 'Shaurya', 'White Noise', 'Dil Kabaddi', 'Raqeeb', 'Fireflies', 'My Friend Ganesha 3', 'Crime Partner', 'Meri Aashiqui', 'Naughty Boy', 'Phir Tauba Tauba', \"Don't Break My Heart - Her Story\", 'Kachchi Sadak', 'Thore - Keep Distance', 'Haseena', 'Hot Mashooka - A Dangerous Lover', 'Kaamguru', 'Mastani Bhabhi', 'The Waiting Room', 'Antardwand', 'Yeh Khula Aasman', 'Eight - Shani', '13 May Gulabi Nagar', 'Take It Easy', 'Jai Jagdambey Maa', 'Ashok Chakra Tribute To Real Heroes', 'Dhamkee - The Extortion', '...And Once Again', 'Siddharth - The Prisoner', 'Raat Gayi Baat Gayi', 'I Am 24', '10ml Love', 'Phas Gaye Re Obama', \"Who's There? Kaun Hai Wah?\", 'Table No. 21', 'Ishq Actually', 'Shaitan', 'Samrat & Co.', 'Soundtrack', 'Aamir', 'Tera Pati Mera Pyar', 'Radha Ne Mala Japi Shyam Ki', 'Quick Gun Murugun', 'Hair Is Falling', 'Do Dilon Ke Khel Mein', 'Riyasat', 'Kaashh....Mere Hote', 'Wafaa', 'Men Will Be Men', 'Jai Mahalaxmi', 'Jism Farosh', 'Namkeen', 'The Night Of The Interview', 'Beehad - The Ravine', 'The Unforgettable', 'Blue Oranges', 'Kya Yahi Sach Hai', 'Behen Hogi Teri', 'Boyss Toh Boyss Hain', 'Love Sex Aur Dhokha', 'Citylights', 'Ragini MMS', 'Shaadi Mein Zaroor Aana', 'Trapped', 'Be Careful', 'Phhir', 'Spark', '1920', 'Undertrial', 'Main Meri Patni Aur Woh', 'Rama Rama Kya Hai Drama', 'Hello Hum Lallann Bol Rahe Hain', 'Ata Pata Laapata', 'Hai Golmaal In White House', 'Kushti', 'Ladies Tailor', 'Masti Express', 'Kaisay Kahein', 'Ruslaan', 'Ek Zakhm - The Blast', 'Jai Santoshi Maa', 'Jaadu Sa Chal Gaya', \"My Husband's Wife\", 'Zanjeer', 'Victoria House', 'Besharam', 'Barfi!', 'Jagga Jasoos', 'Bombay Velvet', 'Wake Up Sid', 'Yeh Jawaani Hai Deewani', 'Rockstar', 'Tamasha', 'Ae Dil Hai Mushkil', 'Chillar Party', 'Raajneeti', 'Ajab Prem Ki Ghazab Kahani', 'Saawariya', 'Rocket Singh: Salesman Of The Year', 'Bachna Ae Haseeno', 'Anjaana Anjaani', 'Roy', 'John Day', 'Ru-Ba-Ru', 'Do Lafzon Ki Kahani', 'Highway', 'Mere Khwabon Mein Jo Aaye', 'Karma Aur Holi', 'Main Aur Charles', 'Love Khichdi', 'Laal Rang', 'Murder 3', 'D', 'Risk', 'Bombay Talkies', 'Laaga Chunari Mein Daag', 'Mardaani', 'Aiyyaa', 'Toss', '3:00 AM', 'Befikre', 'Gunday', 'Band Baaja Baaraat', 'Ladies vs Ricky Bahl', 'Goliyon Ki Raasleela Ram - Leela', 'Bajirao Mastani', 'Kill Dil', 'Lootera', 'Dil Dhadakne Do', 'Mixed Doubles', 'Mithya', 'Fatso', 'Kahani Ek Devi Ki...', 'Kshay', 'Maatr', 'Parveen Bobby', 'Sweet Love', 'World Cupp 2011', 'Raja Bhai Lagey Raho', 'Jeena Hai Toh Thok Daal', 'Chitkabrey', 'Ek Baar Aao Na', 'Khwaja Mere Khwaja', 'Ek Baar Maza Lijiye', '18.11 A Code Of Secrecy...!', 'Jaana... Lets Fall In Love', 'Super Nani', 'Detective Naani', 'Swarg Aashram', 'Tara - The Journey Of Love & Passion', 'Teesra Shabd', 'Tamanchey', 'Swaha', 'Jeena To Hai', 'Bolo Raam', 'Love Ke Chakkar Mein...', 'Do Dooni Chaar', 'Pyaar Mein Twist', 'Chintuji', 'Patel Ki Punjabi Shaadi', 'Khushboo', 'Ishq Ke Parindey', 'Naari Teri Shakti Anokhi', 'De Taali', 'Dhamaal', 'Grand Masti', 'Great Grand Masti', 'Bangistan', 'Tere Naal Love Ho Gaya', 'Jaane Kahan Se Aayi Hai', 'Malamaal Weekly', 'Apna Sapna Money Money', 'Aladin', 'Kal Kissne Dekha', 'Mahidpur 0 K.M.', 'Life Express', 'Calapor', 'A Strange Love Story', 'Gippi', 'Amdavad Junction', 'Mittal Vs Mittal', 'Hum Dum', '2 Little Indians', 'Ugly', 'Udaan', 'Chowrasta - Crossroads Of Love', \"I Don't Luv U\", 'MP3 - Mera Pehla Pehla Pyaar', 'Teree Sang', 'Saala Khadoos', 'Chand Ke Paar Chalo', 'Mumbai Mirror', 'Jackpot', 'Aazaan', 'Jaana Pehchana', 'Chhodo Kal Ki Baatein', 'Bose - The Forgotten Hero', 'Mobile Phone', 'Sab Kuch Nahin Kuch Bhi Nahin', 'Siyasat - The Politics', 'The Hero - Abhimanyu', 'Babloo Happy Hai', 'Ramaa - The Saviour', 'Double Cross - Ek Dhoka', 'Love Express', 'Anna Ka Andolan', 'M.A.D - Mad About Dance', 'Race', 'Race 2', 'Being Cyrus', 'Cocktail', 'Love Aaj Kal', 'Phantom', 'Thoda Pyaar Thoda Magic', 'Sanam Teri Kasam', 'Parineeta', 'Aarakshan', 'Go Goa Gone', 'Happy Ending', 'Chef', 'Kurbaan', 'Humshakals', 'Salaam Namaste', 'Ta Ra Rum Pum', 'Agent Vinod', 'Bullet Raja', 'Yeh Ishq.....Nahin', 'Life Mein Hungama Hai', 'Software Hardware Kya Yaaron', 'Laal Kranti', 'Petrol', 'Dabangg', 'Sultan', 'Tiger Zinda Hai', 'Ready', 'Veer', 'Dabangg 2', 'Maine Pyaar Kyun Kiya?', 'Partner', 'Shaadi Karke Phas Gaya Yaar', 'Ek Tha Tiger', 'Bajrangi Bhaijaan', 'Tubelight', 'Salaam-E-Ishq', 'Wanted', 'Main Aurr Mrs. Khanna', 'Kyon Ki', 'Baabul', 'God Tussi Great Ho', 'Saawan... The Love Season', 'Kick', 'Bodyguard', 'Jai Ho', 'Prem Ratan Dhan Payo', 'Yuvvraaj', 'Lucky - No Time for Love', 'London Dreams', 'Marigold', 'Riwayat', 'Bas Ek Tamanna', 'Mukhbiir', 'Love Kaa Tadka', 'Game', 'Nigehbaan - The Third Eye', 'Rafta Rafta - The Speed', 'Madhubaala', 'Main Hoon Kharidaar', 'Krantiveer - The Revolution', 'Chand Sa Roshan Chehra', 'Bold', 'Ek Se Mera Kya Hoga', '31st Night', 'Veerappan', 'Bandaa', 'The Great Indian Butterfly', \"Valentines's Night\", 'Mehbooba', 'Nehlle Pe Dehlla', 'Chatur Singh Two Star', 'Zilla Ghaziabad', 'Dus', 'Tathastu', 'Double Dhamaal', 'Policegiri', 'Shabd', 'Knock Out', 'Bhoomi', 'Lamhaa', 'Lage Raho Munnabhai', 'Department', 'Sarhad Paar', 'Zinda', 'EMI', 'Luck', 'Unns', 'Sauda - The Deal', 'Kiska Hai Intezaar', 'Manthan Ek Kashmakash', 'Saare Jahaan Se Mehnga', 'Ankhon Dekhi', 'Pyaar Ka Live Show', 'Anubhav', 'Jai Singh Are Baap Re', 'The Adventure Of Haunted House', 'Warning', 'Premsutra', 'Khooni', 'Angoor', 'Kachchi Kali', 'Darinda', 'Free Entry', 'No Parking', 'Gabbar Singh', 'Munnibai B.A. B. Com', 'Hawaa Hawaai', 'Mere Dad Ki Maruti', 'Mujhse Fraaandship Karoge', 'Angry Indian Goddesses', 'Jai Jagannath', 'Sacred Evil - A True Story', 'Hari Puttar - A Comedy Of  Terrors', 'Gangoobai', 'Soch Lo', 'Hum Phirr Milein Na Milein', 'Meri Padosan', 'Manjunath', '2 Piece', 'Ab Hoga Dharna Unlimited', 'Wounded', 'Ankush - The Command', 'Dhoom Dadakka', 'The Unsound', 'Filmistaan', 'Operation Mumbai', '15 Park Avenue', 'Chalk N Duster', 'Loins Of Punjab Presents', 'A Decent Arrangement', 'Sandcastle', 'Dil Bole Hadippa', 'Kismat Konnection', 'Jab We Met', 'Chance Pe Dance', 'Teri Meri Kahaani', 'Vaah! Life Ho Toh Aisi!', 'Paathshaala', 'Mausam', 'Badmaash Company', 'R... Rajkumar', 'Chup Chup Ke', 'Phata Poster Nikhla Hero', 'Milenge Milenge', 'Vivah', 'Shaandaar', 'Kaminey', 'Haider', 'Rangoon', 'Tu Bewafa Hai', 'Dekha Jo Pehli Baar', 'Rab Ne Bana Di Jodi', 'Paheli', 'Ra.One', 'Om Shanti Om', 'Happy New Year', 'Don - The Chase Begins Again', 'Don 2', 'Jab Harry Met Sejal', 'Kabhi Alvida Na Kehna', 'My Name Is Khan', 'Fan', 'Raees', 'Chennai Express', 'Dilwale', 'Chak De India', 'Jab Tak Hai Jaan', 'Us Disha Mein', 'Garam Padosan', 'From Sydney With Love', 'Ek Pal Pyar Ka', '3 Bachelors', 'War... Chhod Na Yaar', 'Allah Ke Banday', 'Toh Baat Pakki', 'Sorry Bhai!', 'Ferrari Ki Sawaari', 'Gang Of Ghosts', '1920 London', 'Wajah Tum Ho', 'Life Goes On', '2 Chehare', 'Love Aur Sex', '99.9 FM', 'Mallika', 'Chehra - The Unknown Mask', 'Red Swastik', 'Sanak - The Deadly Passion', 'Khamoshh... Khauff Ki Raat', 'Hijack', 'Woh Lamhe', 'Ghost', 'Kal - Yesterday & Tomorrow', 'Hazaaron Khwaishein Aisi', 'Khoya Khoya Chand', 'Sins', 'Kis Hudh Tak...', 'Karle Pyaar Karle', 'Ek Haseena Thi Ek Deewana Tha', 'Haseena Parkar', 'Luv Ka The End', 'Pratyavartan - The Homecoming', 'Will You Marry Me?', 'Aagey Se Right', 'Teen Thay Bhai', 'Iqbal', 'Bombay To Bangkok', 'Paying Guests', 'Kamaal Dhamaal Malamaal', 'Click', 'Welcome to Sajjanpur', 'Aasma - The Sky Is the Limit', 'Shakal Pe Mat Ja', 'Nakshatra', 'Raqt', 'Raat Abhi Baaki Hai', 'Striker', 'Stand By', 'Kuku Mathur Ki Jhand Ho Gayi', 'Anwar', 'Tutiya Dil', 'A Gentleman - Sundar Susheel Risky', 'Ek Villain', 'Baar Baar Dekho', 'Kapoor & Sons', 'Hasee Toh Phasee', 'Woodstock Villa', 'Summer 2007', 'Gumshuda', 'Aaj Ka Neta', 'Beda Paar Karte Bhagwan Amarnath', 'Malika - The Fire', 'Chaurahen', 'Aryan', 'Team - The Force', 'Hello', 'Heroes', 'Little Zizou', 'Akira', 'Noor', 'Via Darjeeling', 'Shraddha - In  The Name Of God', 'The Camp', 'Dolly Ki Doli', 'Aisha', 'Neerja', 'Item Girl', 'Ek Vivaah... Aisa Bhi', 'Hero', 'English Vinglish', 'Mom', 'Madholal Keep Walking', 'Mission - The Last War', 'Garma Garam', 'Phoonk 2', 'Phoonk', 'Unlimited Nasha', 'Manoranjan - The Entertainment', 'Dhara', 'Love Recipe', 'Kuch Kariye', 'Khudi Ko Kar Buland Itna', 'Devaki', 'Maazii', 'Desi Kattey', 'Red Alert - The War Within', 'One Two Three', 'Mr. White Mr. Black', 'Barood - The Fire A Love Story', 'Daddy Cool - Join The Fun', 'Padmashree Laloo Prasad Yadav', 'Mere Dost Picture Abhi Baaki Hai', 'Coffee With D', 'Money Back Guarantee', 'Fool N Final', 'Kaafila', 'Apne', 'Singh Saab The Great', 'Fox', 'Big Brother', 'Teesri Aankh - The Hidden Camera', 'Khuda Kasam', 'Right Yaa Wrong', 'I Love NY', 'Jo Bole So Nihaal', 'Yamla Pagla Deewana', 'Yamla Pagla Deewana 2', 'Poster Boys', 'Ghayal Once Again', 'Jo Hum Chahein', 'Ragini MMS 2', 'Ek Paheli Leela', 'Kuch Kuch Locha Hai', 'One Night Stand', 'Jism 2', 'Neighbours', 'Khichdi The Movie', 'Yahi To Pyar Hai', 'Rakht Charitra 2', 'Hate Story 2', 'Lady Dabangg Aaj Bbhi', 'Hulla', 'Idiot Box', 'Kai Po Che', 'Detective Byomkesh Bakshy', 'Raabta', 'Shuddh Desi Romance', 'M.S. Dhoni - The Untold Story', 'Munni Metric Pass', 'Chingaari', 'Zindaggi Rocks', 'Crazy Cukkad Family', 'Nil Battey Sannatta', 'Anaarkali Of Aaraah', 'Listen... Amaya', 'Machhali Jal Ki Rani Hai', 'Tension Doooor', 'Yeh Dil Ramta Jogi', 'Overtime', 'Mastaani... Lost In A Crowd Of Two', 'Akkad Bakkad Bambey Bo', 'Kaalo', 'Naam Shabana', 'Bhaggmati - The Queen Of Fortunes', 'Luv U Soniyo', 'Purani Jeans', 'Aadi Shakti', 'Apartment', 'Ek Aur Sahaadat', 'Key Club', 'Best Partner', 'Bhiga Badan', 'Night Lover', 'Kaamwali', 'Ricksha Waali', 'Doodhwali', 'Machhiwali', 'Barwali', 'College Girl', 'Gumnaam', 'Suno Na... Ek Nanhi Aawaz', 'Hot Money', 'Shrrameya - The Laborious', 'Kaho Na Kaho', 'Mission 11 July', 'Murder In Mumbai', 'De De Ek Chumma De', 'Yeh Faasley', 'Identity Card', 'A Flying Jatt', 'Heropanti', 'Baaghi', 'Munna Micheal', 'Karoongi Tujhe Khallaas', 'Ab Tumhari Bari', 'Ocean Of An Old Man', 'Hansa', 'Matrubhoomi', 'Showbiz', 'Aggar', 'Shor In The City', 'Kya Love Story Hai', 'Mastizaade', 'Dhol', 'Love U...Mr. Kalakaar!', 'C Kkompany', 'Kyaa Super Kool Hain Hum', 'Hum Tum Shabana', 'Chaar Din Ki Chandni', 'Kyaa Kool Hai Hum', 'Bajatey Raho', 'Kyaa Kool Hain Hum 3', 'Neal N Nikki', 'Diary Of A Butterfly', 'Ek Cheez Milegi Wonderful', 'Baap Jaroor Banunga', 'Naari Ek Khilona', 'Lollypop', 'Banaras - A Mystic Love Story', 'Naina', 'Katto', 'Dear Vs Bear', 'Tere Pyaarr Mein Paapad', 'Guardians Who Loved Us', 'Jai Narmada Maiya', 'Main Tera Hero', 'Judwaa 2', 'Student Of The Year', 'ABCD 2', 'Humpty Sharma Ki Dulhania', 'Badrinath Ki Dulhania', 'Badlapur', 'Eik Dasttak', 'Hostel', 'Mumbai 125 KM', 'Real Life Of Supermodel', 'Zindagi 50-50', 'Yaaraa', 'Aamras', 'Zubaan', 'Bow Barracks Forever', 'Ho Sakta Hai!', 'The Dirty Picture', 'No One Killed Jessica', 'Bobby Jasoos', 'Begum Jaan', 'Kahaani', 'Kahaani 2', 'Tumhari Sulu', 'Commando 2', 'Commando', 'Pyar Hawas Aur Dhokha', 'Mission Tigers', 'Journey Bombay To Goa', 'Kya Dilli Kya Lahore', 'Don Ke Baad Kaun?', 'David', 'Model - The Beauty', 'Mahiya - Call Of Love...', 'Hope & A Little Sugar', 'Old Iss Gold', 'Trump Card', 'Mumbai Godfather', 'Royal Utsav', 'Challo Driver', 'Kool Nahi Hot Hain Hum', 'Pehla Aashiq Pehla Qatil', 'Kaagaz Ke Fools', 'Tere Mere Phere', 'Straight', 'Bheja Fry', 'Bheja Fry 2', \"Pappu Can't Dance Saala\", 'Dasvidaniya', 'Chalo Dilli', 'Oh, My God!!', 'Utt Pataang', 'Speedy Singhs', 'Broken Horses', 'Queens! Destiny Of Dance', 'Filmi Duniya', 'Koyelaanchal', 'Fast Forward', 'Gopa - The Freedom Fighter', 'Gafla', 'Tum Hi To Ho', 'Amit Sahni Ki List', 'Gollu Aur Pappu', 'Mumbai Salsa', 'Sooper Se Ooper', 'Bacche Mann Ke Sacche', 'Shootout At Lokhandwala', 'Mission Istaanbul', 'Pyare Mohan', 'Prince', 'Rakht Charitra', 'Naksha', 'Kismet Love Paisa Dilli', 'Kisna', 'Home Delivery', 'Jayantabhai Ki Love Story', 'Impatient Vivek', 'Cocktail - The Deadly Combination', 'Ishq Na Karna', 'Ussey Kya Ho Jayega?', 'Lagan - The Dedication', 'Jugatiya', 'Pyaar Kaa Funda', 'Ab To Sambhal', 'Memsahab', 'Secret Superstar', 'Satrangee Parachute', 'Aksar 2', 'Hate Story 3', 'Sharafat Gayi Tel Lene', 'Love Breakups Zindagi', 'Rocky', 'Speed', 'Fight Club', 'Strings Of Paasion', 'Dunno Y Na Jaane Kyun', 'Taj Mahal - An Eternal Love Story', 'Mr. Hot Mr. Kool']\n"
          ]
        }
      ]
    },
    {
      "cell_type": "code",
      "source": [
        "# finding the close match for the movie name given by the user\n",
        "\n",
        "find_close_match = difflib.get_close_matches(movie_name, list_of_all_titles)\n",
        "print(find_close_match)"
      ],
      "metadata": {
        "colab": {
          "base_uri": "https://localhost:8080/"
        },
        "id": "UXQrIju4MeRt",
        "outputId": "4105d1b8-fc49-4d03-c379-19370aafd9a0"
      },
      "execution_count": 25,
      "outputs": [
        {
          "output_type": "stream",
          "name": "stdout",
          "text": [
            "['3 Idiots']\n"
          ]
        }
      ]
    },
    {
      "cell_type": "code",
      "source": [
        "close_match = find_close_match[0]\n",
        "print(close_match)"
      ],
      "metadata": {
        "colab": {
          "base_uri": "https://localhost:8080/"
        },
        "id": "ShfwlG7lMvs2",
        "outputId": "79ebe6e0-2547-44a3-d07f-e1595e18a62b"
      },
      "execution_count": 26,
      "outputs": [
        {
          "output_type": "stream",
          "name": "stdout",
          "text": [
            "3 Idiots\n"
          ]
        }
      ]
    },
    {
      "source": [
        "# finding the index of the movie with Movie Name\n",
        "\n",
        "index_of_the_movie = movies_data[movies_data['Movie Name'] == close_match].index.values[0]\n",
        "# Accessing the index of the DataFrame and then getting the values\n",
        "print(index_of_the_movie)"
      ],
      "cell_type": "code",
      "metadata": {
        "colab": {
          "base_uri": "https://localhost:8080/"
        },
        "id": "zdPcrBF4NrYQ",
        "outputId": "520a3205-2845-4dc7-ea71-438bc37bf72e"
      },
      "execution_count": 31,
      "outputs": [
        {
          "output_type": "stream",
          "name": "stdout",
          "text": [
            "5\n"
          ]
        }
      ]
    },
    {
      "cell_type": "code",
      "source": [
        "# getting a list of similar movies\n",
        "\n",
        "similarity_score = list(enumerate(similarity[index_of_the_movie]))\n",
        "print(similarity_score)"
      ],
      "metadata": {
        "colab": {
          "base_uri": "https://localhost:8080/"
        },
        "id": "_lC-1duNNvxz",
        "outputId": "0301ae69-c0ea-42ba-dde0-cd50533afc8c"
      },
      "execution_count": 32,
      "outputs": [
        {
          "output_type": "stream",
          "name": "stdout",
          "text": [
            "[(0, 0.27643223921007054), (1, 0.4235971964283193), (2, 0.2736064134129017), (3, 0.23851297788083817), (4, 0.2949554661947891), (5, 1.0000000000000002), (6, 0.0), (7, 0.18148549574655282), (8, 0.0), (9, 0.016235374935024388), (10, 0.0), (11, 0.01851561366769931), (12, 0.06903425559188195), (13, 0.0), (14, 0.7078990360179231), (15, 0.2513314128353203), (16, 0.21663013482147095), (17, 0.23761094425420679), (18, 0.0), (19, 0.011435352842519704), (20, 0.0), (21, 0.0), (22, 0.0), (23, 0.0), (24, 0.0), (25, 0.0), (26, 0.0), (27, 0.02109731630447144), (28, 0.0), (29, 0.0), (30, 0.0), (31, 0.0), (32, 0.0), (33, 0.0), (34, 0.0), (35, 0.0), (36, 0.018603227937684944), (37, 0.0), (38, 0.0), (39, 0.0), (40, 0.0), (41, 0.019692035565669966), (42, 0.0), (43, 0.02116787558749471), (44, 0.0), (45, 0.019862842971527423), (46, 0.0), (47, 0.0), (48, 0.0), (49, 0.0), (50, 0.0), (51, 0.021376655572062666), (52, 0.02079802445521731), (53, 0.01946367713558322), (54, 0.012261038926814618), (55, 0.0), (56, 0.016646546377052925), (57, 0.0), (58, 0.0), (59, 0.0), (60, 0.0174722775595896), (61, 0.0), (62, 0.01791660974157912), (63, 0.015255583854457355), (64, 0.015625191335124407), (65, 0.018635991778237004), (66, 0.0), (67, 0.0), (68, 0.014750388364728056), (69, 0.020221814355673908), (70, 0.0), (71, 0.0), (72, 0.02154193846376336), (73, 0.0), (74, 0.016226016711937435), (75, 0.04681291710103056), (76, 0.05230347492642586), (77, 0.0), (78, 0.0), (79, 0.0), (80, 0.016536245107273598), (81, 0.0), (82, 0.0), (83, 0.0), (84, 0.0), (85, 0.0), (86, 0.01662045379593605), (87, 0.02108106816218926), (88, 0.018980067958424086), (89, 0.017309461408333095), (90, 0.0), (91, 0.0), (92, 0.0), (93, 0.0), (94, 0.0), (95, 0.0), (96, 0.0), (97, 0.020624766467775668), (98, 0.019327146534660073), (99, 0.0), (100, 0.0), (101, 0.0), (102, 0.0), (103, 0.0), (104, 0.022844151096928667), (105, 0.0), (106, 0.0), (107, 0.0), (108, 0.0), (109, 0.02252683972933984), (110, 0.0), (111, 0.0), (112, 0.22735280463488913), (113, 0.0), (114, 0.0), (115, 0.0), (116, 0.0), (117, 0.0), (118, 0.0), (119, 0.0), (120, 0.0), (121, 0.0), (122, 0.05233679627486024), (123, 0.0), (124, 0.018202727102957672), (125, 0.02187089419376847), (126, 0.02219612501338592), (127, 0.01905307346270589), (128, 0.0), (129, 0.0), (130, 0.07036298780449107), (131, 0.113465837257597), (132, 0.01793441007547123), (133, 0.0), (134, 0.05021490347724008), (135, 0.020775112584677825), (136, 0.0), (137, 0.0), (138, 0.0), (139, 0.0), (140, 0.0), (141, 0.0), (142, 0.0), (143, 0.0), (144, 0.0), (145, 0.05963365595104929), (146, 0.0), (147, 0.0), (148, 0.0), (149, 0.0), (150, 0.0), (151, 0.0), (152, 0.0), (153, 0.0), (154, 0.0), (155, 0.0), (156, 0.0), (157, 0.021323177401820322), (158, 0.0), (159, 0.0), (160, 0.0), (161, 0.0), (162, 0.0), (163, 0.0), (164, 0.0), (165, 0.0), (166, 0.20295779680669968), (167, 0.026281324452898987), (168, 0.05864923514578905), (169, 0.06121356751550003), (170, 0.06121356751550003), (171, 0.058159144722561215), (172, 0.0), (173, 0.0), (174, 0.018178195520153994), (175, 0.0), (176, 0.0), (177, 0.0), (178, 0.0), (179, 0.0), (180, 0.0), (181, 0.020075135818026345), (182, 0.0), (183, 0.0), (184, 0.0), (185, 0.0), (186, 0.0), (187, 0.0), (188, 0.015835450428468283), (189, 0.0), (190, 0.06106362465034139), (191, 0.0), (192, 0.0), (193, 0.0), (194, 0.0), (195, 0.0), (196, 0.043352585670250264), (197, 0.0167928382218473), (198, 0.0), (199, 0.022578857756481194), (200, 0.0), (201, 0.0), (202, 0.0), (203, 0.0), (204, 0.0), (205, 0.018738475534876554), (206, 0.018395373793359687), (207, 0.0), (208, 0.045556880785037925), (209, 0.0), (210, 0.0), (211, 0.0), (212, 0.0), (213, 0.0), (214, 0.0), (215, 0.0), (216, 0.0), (217, 0.0), (218, 0.0), (219, 0.01970596845576979), (220, 0.018748982920201357), (221, 0.0), (222, 0.0), (223, 0.0), (224, 0.01876910074322788), (225, 0.015367123061655266), (226, 0.020972185913369672), (227, 0.0), (228, 0.02030283683582175), (229, 0.020460387399464538), (230, 0.0), (231, 0.0), (232, 0.02288860082084021), (233, 0.02288860082084021), (234, 0.020047438306801862), (235, 0.02070605326100828), (236, 0.0), (237, 0.0), (238, 0.0), (239, 0.018890292830585922), (240, 0.0), (241, 0.01849396810574595), (242, 0.018833622156549802), (243, 0.29004803158214204), (244, 0.022886063423443632), (245, 0.0), (246, 0.013982322988300527), (247, 0.016182842592568143), (248, 0.0), (249, 0.0), (250, 0.0), (251, 0.0), (252, 0.0), (253, 0.020719549776512348), (254, 0.0), (255, 0.016094719703399346), (256, 0.020414377362881115), (257, 0.016234375334240433), (258, 0.018144377185232798), (259, 0.0), (260, 0.0), (261, 0.018863129218198372), (262, 0.018781044911846394), (263, 0.0), (264, 0.0), (265, 0.0), (266, 0.017401391949979448), (267, 0.0), (268, 0.0), (269, 0.01778103299796669), (270, 0.0), (271, 0.017001729296429288), (272, 0.0), (273, 0.02079219710746879), (274, 0.019170171472199977), (275, 0.01955439618570215), (276, 0.0), (277, 0.0), (278, 0.049003441314881595), (279, 0.06672881084717522), (280, 0.04287947896656115), (281, 0.017428564417547303), (282, 0.0), (283, 0.02050139386285092), (284, 0.0), (285, 0.04506747385189207), (286, 0.0), (287, 0.018268762348942973), (288, 0.0), (289, 0.0), (290, 0.0), (291, 0.0), (292, 0.018385282082760315), (293, 0.0), (294, 0.02084520605979747), (295, 0.0), (296, 0.33068242538782955), (297, 0.0), (298, 0.020030859270562713), (299, 0.0), (300, 0.0), (301, 0.0), (302, 0.0), (303, 0.0), (304, 0.0), (305, 0.0), (306, 0.017500192778922542), (307, 0.0), (308, 0.0), (309, 0.051977398216008164), (310, 0.0), (311, 0.0), (312, 0.02161343961623097), (313, 0.04864627069414541), (314, 0.0), (315, 0.0), (316, 0.01733320089120891), (317, 0.0), (318, 0.017331238276347586), (319, 0.017222087562312364), (320, 0.0), (321, 0.0), (322, 0.0), (323, 0.016590330678542455), (324, 0.03156446633237308), (325, 0.016463359011514783), (326, 0.0), (327, 0.0), (328, 0.0), (329, 0.016448081578116936), (330, 0.0), (331, 0.0466522257212635), (332, 0.01700188697773987), (333, 0.01747093450688272), (334, 0.017818213753799664), (335, 0.0), (336, 0.0), (337, 0.015798670002090075), (338, 0.0), (339, 0.021730730182833977), (340, 0.015028414389933601), (341, 0.0), (342, 0.014404046560686251), (343, 0.017815877299943557), (344, 0.0), (345, 0.04255965725257048), (346, 0.0), (347, 0.0), (348, 0.0), (349, 0.0), (350, 0.0), (351, 0.0), (352, 0.0), (353, 0.01664829583886964), (354, 0.0), (355, 0.0), (356, 0.017054600593170953), (357, 0.0), (358, 0.0), (359, 0.0), (360, 0.018934810821873024), (361, 0.0), (362, 0.0175457701478949), (363, 0.0), (364, 0.015709594453435238), (365, 0.0), (366, 0.0), (367, 0.0), (368, 0.0204089879154622), (369, 0.0174691296386713), (370, 0.0), (371, 0.0), (372, 0.02067582961493454), (373, 0.0), (374, 0.0645233374421318), (375, 0.0), (376, 0.0), (377, 0.29807329167950875), (378, 0.0), (379, 0.0), (380, 0.0), (381, 0.01669589168204015), (382, 0.0), (383, 0.0), (384, 0.014536026378190271), (385, 0.0), (386, 0.020242903398775002), (387, 0.015328223343532038), (388, 0.048225762422940195), (389, 0.016221309877606827), (390, 0.0), (391, 0.015134752846057094), (392, 0.017803599253892192), (393, 0.0), (394, 0.0), (395, 0.0), (396, 0.016608687220992863), (397, 0.017256253238405968), (398, 0.0), (399, 0.0), (400, 0.01655440332220065), (401, 0.015125456656456936), (402, 0.0), (403, 0.015898961367764527), (404, 0.016317535714099975), (405, 0.016131674883395623), (406, 0.01572344811535499), (407, 0.0), (408, 0.0), (409, 0.0), (410, 0.0), (411, 0.020372473019002166), (412, 0.0), (413, 0.0), (414, 0.0), (415, 0.0), (416, 0.0), (417, 0.0), (418, 0.0), (419, 0.015080514680367007), (420, 0.0), (421, 0.0), (422, 0.0), (423, 0.017897070095647446), (424, 0.0), (425, 0.0), (426, 0.0), (427, 0.0), (428, 0.0), (429, 0.017718564044666874), (430, 0.019825466171762045), (431, 0.015704816920760936), (432, 0.046136033748817425), (433, 0.01672018845083169), (434, 0.01842018092422835), (435, 0.0), (436, 0.0), (437, 0.04393002269848727), (438, 0.01898608150325143), (439, 0.0), (440, 0.0), (441, 0.0), (442, 0.0195189162495585), (443, 0.0), (444, 0.0), (445, 0.0), (446, 0.01973901502638782), (447, 0.0), (448, 0.0), (449, 0.0), (450, 0.0), (451, 0.0), (452, 0.023809997129650064), (453, 0.0), (454, 0.0), (455, 0.0), (456, 0.0), (457, 0.0), (458, 0.0), (459, 0.0), (460, 0.01846599770898878), (461, 0.0), (462, 0.0519350832654742), (463, 0.0), (464, 0.0), (465, 0.0), (466, 0.0), (467, 0.04468617868372873), (468, 0.05426631810482448), (469, 0.05258905166424037), (470, 0.053124390492762345), (471, 0.045353066410707084), (472, 0.08107299478285118), (473, 0.05665858874259998), (474, 0.04357992791509956), (475, 0.021016348300687576), (476, 0.0), (477, 0.017395442016340443), (478, 0.01891416543758941), (479, 0.0), (480, 0.017462023756459878), (481, 0.0), (482, 0.01636630792017139), (483, 0.01545278989791025), (484, 0.016676463550347367), (485, 0.016728603746801293), (486, 0.0), (487, 0.04427037957891717), (488, 0.017196728626711715), (489, 0.016853434607811725), (490, 0.0), (491, 0.0), (492, 0.0), (493, 0.0), (494, 0.0), (495, 0.0), (496, 0.019311643480782365), (497, 0.0), (498, 0.01612434356641772), (499, 0.015920352278644512), (500, 0.0), (501, 0.0), (502, 0.0), (503, 0.0), (504, 0.0), (505, 0.0), (506, 0.0), (507, 0.019876921313027186), (508, 0.0), (509, 0.01992182360149711), (510, 0.0), (511, 0.0), (512, 0.0), (513, 0.017398162818717866), (514, 0.0), (515, 0.016846624101891035), (516, 0.0), (517, 0.0), (518, 0.019411293201394963), (519, 0.014636488690361334), (520, 0.0), (521, 0.0), (522, 0.0), (523, 0.01477573951301158), (524, 0.0), (525, 0.0), (526, 0.008301565299742669), (527, 0.0), (528, 0.008301565299742669), (529, 0.01142812748889743), (530, 0.01142812748889743), (531, 0.017577895721064194), (532, 0.06397862418809146), (533, 0.01685548637570958), (534, 0.016137465412201273), (535, 0.0), (536, 0.0), (537, 0.016899989849979147), (538, 0.014519647018639642), (539, 0.0), (540, 0.0), (541, 0.0), (542, 0.015284893554069248), (543, 0.0), (544, 0.0), (545, 0.016647926528245933), (546, 0.0), (547, 0.0), (548, 0.0), (549, 0.017972112263579455), (550, 0.0), (551, 0.0179408087878165), (552, 0.0), (553, 0.0), (554, 0.017141558575615196), (555, 0.0), (556, 0.01777600393534572), (557, 0.0), (558, 0.019640902478201234), (559, 0.0), (560, 0.0), (561, 0.0202365082147147), (562, 0.0), (563, 0.0), (564, 0.0), (565, 0.0), (566, 0.0), (567, 0.012329065837804151), (568, 0.0), (569, 0.018678119721580923), (570, 0.01687097754625653), (571, 0.0), (572, 0.0), (573, 0.05844426833841654), (574, 0.01902118155011576), (575, 0.0), (576, 0.0), (577, 0.05382463742865148), (578, 0.04966482398515198), (579, 0.04894403922615221), (580, 0.04920213284592441), (581, 0.050659924359112506), (582, 0.05182796769354629), (583, 0.05147921267024789), (584, 0.05977781527655205), (585, 0.06409536885366891), (586, 0.016273138945304515), (587, 0.08508999013432704), (588, 0.04847319091410574), (589, 0.06515099998754804), (590, 0.07003083504913361), (591, 0.06953887094426382), (592, 0.0521162750482091), (593, 0.09454285346194567), (594, 0.04635256186727158), (595, 0.06896928864578286), (596, 0.0), (597, 0.017341957164578814), (598, 0.0), (599, 0.06801408321170674), (600, 0.011803804531176727), (601, 0.021897554769545417), (602, 0.0), (603, 0.0), (604, 0.02074391812595152), (605, 0.0), (606, 0.0), (607, 0.0), (608, 0.018955608739614074), (609, 0.0), (610, 0.01875083386707859), (611, 0.0), (612, 0.0), (613, 0.017337532450547113), (614, 0.0), (615, 0.017365829257693224), (616, 0.0), (617, 0.01641445544633138), (618, 0.02128412391835716), (619, 0.0), (620, 0.0), (621, 0.016203806056749565), (622, 0.0), (623, 0.0), (624, 0.0), (625, 0.0), (626, 0.015611923942098151), (627, 0.01982269896590357), (628, 0.04893140201990361), (629, 0.01721199348254719), (630, 0.02059938095197713), (631, 0.0), (632, 0.05035109641824354), (633, 0.0), (634, 0.017620003016303152), (635, 0.0), (636, 0.0), (637, 0.019349931241084528), (638, 0.019903510729646738), (639, 0.018462047687278847), (640, 0.020087141394477714), (641, 0.0), (642, 0.31674986438552466), (643, 0.0), (644, 0.0), (645, 0.0), (646, 0.0), (647, 0.021262055481797007), (648, 0.02116689896653731), (649, 0.07172916648864598), (650, 0.06237880597661421), (651, 0.0), (652, 0.020287224369858716), (653, 0.0200453128247198), (654, 0.0), (655, 0.0), (656, 0.0), (657, 0.0), (658, 0.0), (659, 0.29908099047226794), (660, 0.023047970734363578), (661, 0.019852166835547733), (662, 0.29334285148427025), (663, 0.018752028368274186), (664, 0.0), (665, 0.0), (666, 0.0), (667, 0.019046009377122437), (668, 0.05012923961651391), (669, 0.017672504702836014), (670, 0.020281813173248144), (671, 0.01790013321004467), (672, 0.016106347423215244), (673, 0.016016521241535537), (674, 0.0), (675, 0.052685947637761056), (676, 0.0), (677, 0.0), (678, 0.018380868883054766), (679, 0.01662202069759745), (680, 0.017524895204323796), (681, 0.016972265738468974), (682, 0.017519601302901953), (683, 0.0), (684, 0.0), (685, 0.0), (686, 0.0181639325255951), (687, 0.0), (688, 0.0), (689, 0.0), (690, 0.019811066995030508), (691, 0.017400910703271065), (692, 0.0), (693, 0.020035641866048507), (694, 0.0), (695, 0.0), (696, 0.0), (697, 0.0), (698, 0.0), (699, 0.0), (700, 0.0), (701, 0.0), (702, 0.0), (703, 0.01771501144592922), (704, 0.0), (705, 0.0), (706, 0.014839699057559063), (707, 0.0), (708, 0.014507054386538742), (709, 0.0), (710, 0.0), (711, 0.014414508160071152), (712, 0.0), (713, 0.0), (714, 0.0), (715, 0.0), (716, 0.0), (717, 0.06864006160653932), (718, 0.017639421355586604), (719, 0.018237579202139125), (720, 0.016549630784009464), (721, 0.016027658825007996), (722, 0.01425710065351367), (723, 0.017260328551815404), (724, 0.015137391728855426), (725, 0.018077579944343954), (726, 0.014201517705084243), (727, 0.057224234053021156), (728, 0.016127961428874384), (729, 0.018456498315883075), (730, 0.0), (731, 0.015837695961442123), (732, 0.015933932698614508), (733, 0.0), (734, 0.0), (735, 0.0), (736, 0.0), (737, 0.0), (738, 0.0), (739, 0.0), (740, 0.018160780837328378), (741, 0.019290217976670528), (742, 0.0191311402340812), (743, 0.020464130934806164), (744, 0.018584039427365993), (745, 0.0), (746, 0.0), (747, 0.0), (748, 0.05911206117147144), (749, 0.0), (750, 0.015563143900801064), (751, 0.0), (752, 0.01543540677694242), (753, 0.019618308375372023), (754, 0.0), (755, 0.018347167464571667), (756, 0.01696723466826002), (757, 0.017639443830460084), (758, 0.0191873422487434), (759, 0.013635238349304331), (760, 0.0), (761, 0.0), (762, 0.0), (763, 0.0), (764, 0.0), (765, 0.0), (766, 0.0), (767, 0.017006191805839507), (768, 0.0), (769, 0.0), (770, 0.0), (771, 0.019823014590144867), (772, 0.0), (773, 0.0), (774, 0.017579429910879737), (775, 0.018124204453001082), (776, 0.017108414886656875), (777, 0.0), (778, 0.0), (779, 0.0), (780, 0.0), (781, 0.0), (782, 0.0), (783, 0.0205607193779785), (784, 0.016864314197985442), (785, 0.013168720634322381), (786, 0.0), (787, 0.0), (788, 0.01900684032751827), (789, 0.01737918657740414), (790, 0.0), (791, 0.018745496439259907), (792, 0.019081061175065285), (793, 0.06664947993050298), (794, 0.020426954354453276), (795, 0.0), (796, 0.0), (797, 0.01573117885411442), (798, 0.013946298999053112), (799, 0.0), (800, 0.017716686126677473), (801, 0.0), (802, 0.0), (803, 0.0), (804, 0.018843591558252694), (805, 0.019557569813341003), (806, 0.0), (807, 0.01677677410315604), (808, 0.0), (809, 0.0), (810, 0.01567311285336916), (811, 0.0), (812, 0.01657138874482686), (813, 0.0), (814, 0.019993640241473737), (815, 0.0), (816, 0.0), (817, 0.01974286131170639), (818, 0.0), (819, 0.0), (820, 0.01690967860146301), (821, 0.0), (822, 0.0), (823, 0.0), (824, 0.020730241878818213), (825, 0.03892558854446834), (826, 0.08375794395634328), (827, 0.016614877617742163), (828, 0.016939397099131906), (829, 0.0), (830, 0.01618075499926483), (831, 0.0), (832, 0.018695870830410376), (833, 0.09094180660268977), (834, 0.016206193485149227), (835, 0.0182300505147097), (836, 0.017103881260294173), (837, 0.0), (838, 0.016899962747667557), (839, 0.015459165820017268), (840, 0.013187590027925841), (841, 0.0), (842, 0.016457366022355306), (843, 0.015485959102988629), (844, 0.06564761000418243), (845, 0.0), (846, 0.0), (847, 0.039955592839895845), (848, 0.01803921532984973), (849, 0.1104039884726498), (850, 0.0), (851, 0.016240347574305838), (852, 0.011505865287366133), (853, 0.018018529246554792), (854, 0.0), (855, 0.01775439579991328), (856, 0.020744590206815315), (857, 0.0), (858, 0.015364380824472465), (859, 0.015298110200818343), (860, 0.04271773998742836), (861, 0.0), (862, 0.0), (863, 0.019386243608461477), (864, 0.01837445623481472), (865, 0.019800722457346848), (866, 0.0), (867, 0.0), (868, 0.0), (869, 0.01828251389517799), (870, 0.0), (871, 0.019116807491051015), (872, 0.016839605008941584), (873, 0.01878968021843079), (874, 0.013486881396897295), (875, 0.0), (876, 0.015019167759493536), (877, 0.0630378047498254), (878, 0.0), (879, 0.0), (880, 0.020152155845190197), (881, 0.019152047032145722), (882, 0.0), (883, 0.01836920376148677), (884, 0.01678955909071991), (885, 0.01736691486155604), (886, 0.05400909048639337), (887, 0.0), (888, 0.0), (889, 0.017231930877480987), (890, 0.0), (891, 0.0), (892, 0.017060902605153902), (893, 0.017311181647854217), (894, 0.131910801679059), (895, 0.0), (896, 0.0), (897, 0.016872772284762142), (898, 0.0), (899, 0.01743999513985064), (900, 0.016984567784399683), (901, 0.018178756239219506), (902, 0.01535047117945457), (903, 0.017800595381409236), (904, 0.016374147640409023), (905, 0.0), (906, 0.01673514630953249), (907, 0.0), (908, 0.011601615991953354), (909, 0.0), (910, 0.0), (911, 0.01643403101263524), (912, 0.01638511431035794), (913, 0.0), (914, 0.0), (915, 0.0), (916, 0.019374494193336308), (917, 0.015955673046171556), (918, 0.03574722988874279), (919, 0.0), (920, 0.0), (921, 0.017531307744220875), (922, 0.0), (923, 0.01784447505644771), (924, 0.0), (925, 0.0), (926, 0.0189680057689792), (927, 0.04796825159125407), (928, 0.01711759267429757), (929, 0.0), (930, 0.0), (931, 0.0), (932, 0.04374948527786951), (933, 0.013993470863660493), (934, 0.01911997937901367), (935, 0.016429869690771818), (936, 0.0), (937, 0.0), (938, 0.01850857543782232), (939, 0.0), (940, 0.0), (941, 0.0), (942, 0.0), (943, 0.0), (944, 0.0), (945, 0.01864069298650523), (946, 0.0), (947, 0.0), (948, 0.0), (949, 0.01930631224505877), (950, 0.011200496551078435), (951, 0.017985201064584427), (952, 0.0), (953, 0.05945379380759487), (954, 0.0), (955, 0.0), (956, 0.01757338320856112), (957, 0.015471031250039308), (958, 0.0), (959, 0.015545034853730108), (960, 0.0), (961, 0.017815933336027857), (962, 0.015505105950603568), (963, 0.0), (964, 0.015520660584530527), (965, 0.0), (966, 0.0), (967, 0.0), (968, 0.01985920177462658), (969, 0.01871873671244098), (970, 0.02086502306352547), (971, 0.0), (972, 0.0), (973, 0.01414278158156295), (974, 0.0), (975, 0.0), (976, 0.0), (977, 0.0), (978, 0.0), (979, 0.0), (980, 0.0), (981, 0.01857327045427459), (982, 0.018684684188638535), (983, 0.0), (984, 0.0), (985, 0.016720917919639526), (986, 0.0), (987, 0.0), (988, 0.0), (989, 0.0), (990, 0.0), (991, 0.0), (992, 0.0), (993, 0.0), (994, 0.0), (995, 0.01663430243613965), (996, 0.0), (997, 0.013659160255796663), (998, 0.06429744002221988), (999, 0.017053996858296287), (1000, 0.01693619134543821), (1001, 0.0), (1002, 0.0), (1003, 0.017799613753934566), (1004, 0.01915937049001531), (1005, 0.018883622612470383), (1006, 0.0), (1007, 0.0), (1008, 0.06943275536685455), (1009, 0.0167098486723897), (1010, 0.0), (1011, 0.0), (1012, 0.0157601266293346), (1013, 0.0), (1014, 0.0), (1015, 0.018458569022456732), (1016, 0.0), (1017, 0.0), (1018, 0.01838471443724543), (1019, 0.0), (1020, 0.0), (1021, 0.0), (1022, 0.01689701583748981), (1023, 0.0), (1024, 0.0), (1025, 0.0), (1026, 0.01906400910785095), (1027, 0.02007483344998059), (1028, 0.0), (1029, 0.0), (1030, 0.01670522007100454), (1031, 0.0), (1032, 0.018439330636337254), (1033, 0.018079545238105656), (1034, 0.018635034982270846), (1035, 0.019512693228206337), (1036, 0.015659301708730995), (1037, 0.0), (1038, 0.0), (1039, 0.0), (1040, 0.0), (1041, 0.0), (1042, 0.0), (1043, 0.0), (1044, 0.0), (1045, 0.01834060693827401), (1046, 0.0), (1047, 0.0), (1048, 0.019138045798384243), (1049, 0.0), (1050, 0.016023908592873535), (1051, 0.0), (1052, 0.019080209335571755), (1053, 0.0), (1054, 0.019356913593359656), (1055, 0.022122896065243043), (1056, 0.0), (1057, 0.06156213484310659), (1058, 0.0), (1059, 0.0), (1060, 0.0), (1061, 0.015158993540857776), (1062, 0.017145167283530875), (1063, 0.018418917235325363), (1064, 0.0), (1065, 0.0), (1066, 0.0), (1067, 0.018208816501719287), (1068, 0.0), (1069, 0.0), (1070, 0.0), (1071, 0.0), (1072, 0.0), (1073, 0.0), (1074, 0.0), (1075, 0.07746057422062869), (1076, 0.0), (1077, 0.0), (1078, 0.0), (1079, 0.0), (1080, 0.0), (1081, 0.0), (1082, 0.0), (1083, 0.017522493764092366), (1084, 0.019826206384666378), (1085, 0.06424647893042801), (1086, 0.0), (1087, 0.0), (1088, 0.0), (1089, 0.016266104674946495), (1090, 0.0), (1091, 0.0), (1092, 0.0), (1093, 0.024333247531907968), (1094, 0.024333247531907968), (1095, 0.022138840426745358), (1096, 0.019569763040449564), (1097, 0.0), (1098, 0.02403073384257189), (1099, 0.02403073384257189), (1100, 0.0), (1101, 0.021203241082013623), (1102, 0.0), (1103, 0.22388982450575884), (1104, 0.0), (1105, 0.019556601422795968), (1106, 0.0), (1107, 0.0), (1108, 0.0), (1109, 0.0), (1110, 0.016919206593067), (1111, 0.0), (1112, 0.0220535880990111), (1113, 0.0), (1114, 0.021178358794378408), (1115, 0.01773186193523231), (1116, 0.0), (1117, 0.015702863136203952), (1118, 0.0), (1119, 0.0), (1120, 0.0), (1121, 0.019630227300316768), (1122, 0.3146074636834748), (1123, 0.0), (1124, 0.0), (1125, 0.0), (1126, 0.0), (1127, 0.0), (1128, 0.0), (1129, 0.0), (1130, 0.021545379084858464), (1131, 0.0), (1132, 0.012567705437768452), (1133, 0.0), (1134, 0.0), (1135, 0.01954066377750166), (1136, 0.018742910676710887), (1137, 0.0), (1138, 0.0), (1139, 0.01454817375409515), (1140, 0.012657298969769772), (1141, 0.01715648319453116), (1142, 0.0), (1143, 0.01637077238413304), (1144, 0.01848442289942439), (1145, 0.0), (1146, 0.016824628468600288), (1147, 0.017222738125707536), (1148, 0.042227288647418336), (1149, 0.0), (1150, 0.045556880785037925), (1151, 0.03406714311019712), (1152, 0.04330283947451288), (1153, 0.0194965391103225), (1154, 0.013532760504565743), (1155, 0.016409438754887564), (1156, 0.01966097720976723), (1157, 0.01788071554686295), (1158, 0.0), (1159, 0.020500314673719124), (1160, 0.0), (1161, 0.0), (1162, 0.0), (1163, 0.0), (1164, 0.0), (1165, 0.0), (1166, 0.0), (1167, 0.0), (1168, 0.09467441291221994), (1169, 0.013595242382810315), (1170, 0.0), (1171, 0.0), (1172, 0.0), (1173, 0.0), (1174, 0.0), (1175, 0.0), (1176, 0.0), (1177, 0.0), (1178, 0.0), (1179, 0.0), (1180, 0.0), (1181, 0.01599170560976923), (1182, 0.015889274654161973), (1183, 0.015950090640895268), (1184, 0.06765919309141753), (1185, 0.018317116066571566), (1186, 0.0), (1187, 0.02042822563577817), (1188, 0.0), (1189, 0.015152527245065205), (1190, 0.020539274019111223), (1191, 0.01831591932656585), (1192, 0.015450421555724328), (1193, 0.0), (1194, 0.0), (1195, 0.0), (1196, 0.016450671828929214), (1197, 0.0), (1198, 0.0), (1199, 0.0), (1200, 0.0), (1201, 0.022720968717467503), (1202, 0.018826443920185957), (1203, 0.019723759436958244), (1204, 0.05190708653009056), (1205, 0.01619673678080864), (1206, 0.017973233329716586), (1207, 0.0), (1208, 0.0), (1209, 0.04362591898474244), (1210, 0.061506502705346286), (1211, 0.0), (1212, 0.01675747578355413), (1213, 0.014012231729481362), (1214, 0.05630246912363197), (1215, 0.05630246912363197), (1216, 0.06776221619046707), (1217, 0.051169951014277244), (1218, 0.052009263636866185), (1219, 0.11476515381034418), (1220, 0.0717346148204165), (1221, 0.0), (1222, 0.37805727520931165), (1223, 0.07247277819132328), (1224, 0.05119127630184652), (1225, 0.05022444361293622), (1226, 0.06189795321338528), (1227, 0.047516174383964556), (1228, 0.1128082411781311), (1229, 0.05623715544452298), (1230, 0.08135818317164366), (1231, 0.051946887089096706), (1232, 0.050233531955207876), (1233, 0.011949766198822934), (1234, 0.0), (1235, 0.0), (1236, 0.0), (1237, 0.0), (1238, 0.05392333542927659), (1239, 0.050391591210089376), (1240, 0.053012944720587186), (1241, 0.0606513639448584), (1242, 0.05967639690667354), (1243, 0.10899315042340289), (1244, 0.05649345694725358), (1245, 0.056680895539487096), (1246, 0.05702452308107148), (1247, 0.11357428833163939), (1248, 0.11580149707280755), (1249, 0.1538839115718923), (1250, 0.05217531117177293), (1251, 0.055960580539399896), (1252, 0.05285742610231457), (1253, 0.06392149527312962), (1254, 0.07908994708792302), (1255, 0.05060860691756479), (1256, 0.0454339316309697), (1257, 0.05235108740569122), (1258, 0.05724123541867117), (1259, 0.11357428833163939), (1260, 0.07186359063341682), (1261, 0.08087909668272189), (1262, 0.048516149501097394), (1263, 0.06630930843144381), (1264, 0.04575691197901202), (1265, 0.016860978434384992), (1266, 0.019620274196289526), (1267, 0.019418187305054836), (1268, 0.0), (1269, 0.0), (1270, 0.020639616528541113), (1271, 0.014743530878782139), (1272, 0.018015715033522884), (1273, 0.0), (1274, 0.01973941814325484), (1275, 0.0), (1276, 0.019929671759045604), (1277, 0.0), (1278, 0.0662223454588534), (1279, 0.018127813677843527), (1280, 0.06211569991012312), (1281, 0.016632856786872475), (1282, 0.0), (1283, 0.04878393268698516), (1284, 0.0), (1285, 0.0), (1286, 0.0), (1287, 0.0), (1288, 0.021634787437212723), (1289, 0.0), (1290, 0.0), (1291, 0.02118258251518979), (1292, 0.0), (1293, 0.021418400579326712), (1294, 0.0), (1295, 0.7721414125056332), (1296, 0.0), (1297, 0.019080386133974114), (1298, 0.0), (1299, 0.0), (1300, 0.0), (1301, 0.01988370686185465), (1302, 0.021276501409627432), (1303, 0.0), (1304, 0.0), (1305, 0.0), (1306, 0.0216230014456578), (1307, 0.016792567219432144), (1308, 0.019171082951861092), (1309, 0.009884763748202833), (1310, 0.0), (1311, 0.0), (1312, 0.0), (1313, 0.0), (1314, 0.0), (1315, 0.0), (1316, 0.0), (1317, 0.0), (1318, 0.0), (1319, 0.0), (1320, 0.0), (1321, 0.01653749400483538), (1322, 0.0), (1323, 0.0), (1324, 0.013466160986296988), (1325, 0.0), (1326, 0.016795416249655394), (1327, 0.0), (1328, 0.015854080216699772), (1329, 0.0), (1330, 0.0), (1331, 0.0), (1332, 0.01396605482248773), (1333, 0.0), (1334, 0.0), (1335, 0.016687114542384338), (1336, 0.01562760438869019), (1337, 0.0), (1338, 0.04343265894406589), (1339, 0.0), (1340, 0.04056922283598067), (1341, 0.017087846829545967), (1342, 0.01755437284522297), (1343, 0.0), (1344, 0.015490242030536248), (1345, 0.016086794154736662), (1346, 0.0), (1347, 0.0), (1348, 0.0), (1349, 0.0), (1350, 0.0), (1351, 0.0), (1352, 0.018906500670957165), (1353, 0.0), (1354, 0.021083901900118635), (1355, 0.0), (1356, 0.0), (1357, 0.22433604015207542), (1358, 0.0), (1359, 0.018994229874823482), (1360, 0.0), (1361, 0.018131234959378795), (1362, 0.018131234959378795), (1363, 0.018131234959378795), (1364, 0.04315876052097825), (1365, 0.07722379114578425), (1366, 0.05528146905110153), (1367, 0.0740924447239734), (1368, 0.054356935017619915), (1369, 0.10129128653863385), (1370, 0.10129128653863385), (1371, 0.05141074246268461), (1372, 0.05141074246268461), (1373, 0.061684268768478594), (1374, 0.07322332952240578), (1375, 0.07322332952240578), (1376, 0.056574778388936195), (1377, 0.05279587818226912), (1378, 0.05243335300640421), (1379, 0.058698809964628076), (1380, 0.06976823094648499), (1381, 0.05482318556519368), (1382, 0.0), (1383, 0.0), (1384, 0.0), (1385, 0.01733528429396796), (1386, 0.0), (1387, 0.0), (1388, 0.0), (1389, 0.0), (1390, 0.0), (1391, 0.020987162971383956), (1392, 0.0), (1393, 0.0), (1394, 0.0), (1395, 0.013458893409383103), (1396, 0.0), (1397, 0.0), (1398, 0.0), (1399, 0.0), (1400, 0.0), (1401, 0.0), (1402, 0.0), (1403, 0.0), (1404, 0.0), (1405, 0.02164581910678341), (1406, 0.0), (1407, 0.29216921552606795), (1408, 0.32306018702707157), (1409, 0.32306018702707157), (1410, 0.017884737486282443), (1411, 0.0), (1412, 0.0), (1413, 0.0), (1414, 0.019080314804329916), (1415, 0.020153789737277644), (1416, 0.014701027108464469), (1417, 0.0), (1418, 0.0), (1419, 0.0), (1420, 0.019275406796218673), (1421, 0.0), (1422, 0.0), (1423, 0.0), (1424, 0.0), (1425, 0.31282948359786295), (1426, 0.02004201569668548), (1427, 0.0), (1428, 0.0), (1429, 0.01737853181404687), (1430, 0.0), (1431, 0.019439233399444006), (1432, 0.01973795002940003), (1433, 0.0), (1434, 0.021356906221665008), (1435, 0.0), (1436, 0.0), (1437, 0.0), (1438, 0.01594822845644249), (1439, 0.017794283712878462), (1440, 0.0), (1441, 0.0), (1442, 0.0), (1443, 0.017874481250772904), (1444, 0.0), (1445, 0.0), (1446, 0.0), (1447, 0.055933887609156546), (1448, 0.07265683938018647), (1449, 0.05383654179526397), (1450, 0.05394670595698546), (1451, 0.07553628389550102), (1452, 0.0), (1453, 0.0), (1454, 0.01738269456044087), (1455, 0.0), (1456, 0.01758668168532365), (1457, 0.016361026828381052), (1458, 0.0), (1459, 0.0), (1460, 0.01969837155744541), (1461, 0.0), (1462, 0.0), (1463, 0.0), (1464, 0.01984068654600253), (1465, 0.02108900301793356), (1466, 0.01585221389716832), (1467, 0.0), (1468, 0.016751482749974077), (1469, 0.0), (1470, 0.0), (1471, 0.018028068935279876), (1472, 0.0), (1473, 0.017092097263931804), (1474, 0.0), (1475, 0.017632863485900527), (1476, 0.017632863485900527), (1477, 0.016106431001670946), (1478, 0.0), (1479, 0.0), (1480, 0.01931503254702703), (1481, 0.0), (1482, 0.0), (1483, 0.0), (1484, 0.0), (1485, 0.0), (1486, 0.0), (1487, 0.0), (1488, 0.0), (1489, 0.05932767624494929), (1490, 0.0), (1491, 0.022896432970227507), (1492, 0.0), (1493, 0.0), (1494, 0.0), (1495, 0.0), (1496, 0.0), (1497, 0.0), (1498, 0.0), (1499, 0.0), (1500, 0.0), (1501, 0.0), (1502, 0.0), (1503, 0.0), (1504, 0.0), (1505, 0.0), (1506, 0.04431527267602572), (1507, 0.0), (1508, 0.0), (1509, 0.0), (1510, 0.0), (1511, 0.0), (1512, 0.010249088596991373), (1513, 0.0), (1514, 0.0), (1515, 0.0), (1516, 0.0), (1517, 0.0), (1518, 0.020706041713664136), (1519, 0.0), (1520, 0.0), (1521, 0.0), (1522, 0.018503306523747973), (1523, 0.0), (1524, 0.017348995473391176), (1525, 0.018879568286553614), (1526, 0.0), (1527, 0.015052786588908205), (1528, 0.018771756464182544), (1529, 0.016359271050716957), (1530, 0.0), (1531, 0.016102683456237662), (1532, 0.008994274539978593), (1533, 0.018645852781578633), (1534, 0.020826815941703283), (1535, 0.01558004428718944), (1536, 0.0), (1537, 0.0), (1538, 0.019814510321408414), (1539, 0.0), (1540, 0.014781082858538998), (1541, 0.017668398481835063), (1542, 0.0), (1543, 0.05942319457601227), (1544, 0.016867766111738576), (1545, 0.0), (1546, 0.0), (1547, 0.0), (1548, 0.0), (1549, 0.0), (1550, 0.0), (1551, 0.0), (1552, 0.0), (1553, 0.0), (1554, 0.017764708221320955), (1555, 0.0168538753718348), (1556, 0.019045453440931687), (1557, 0.0), (1558, 0.0), (1559, 0.019518847281824285), (1560, 0.0), (1561, 0.0), (1562, 0.016390057313761308), (1563, 0.017247662348932907), (1564, 0.0), (1565, 0.04373754127888685), (1566, 0.04761489946737409), (1567, 0.050002650697376305), (1568, 0.0), (1569, 0.0), (1570, 0.015183229513265532), (1571, 0.015056959871337223), (1572, 0.019497913973566795), (1573, 0.06519698024054883), (1574, 0.0), (1575, 0.023778769594582864), (1576, 0.0), (1577, 0.0), (1578, 0.0), (1579, 0.0), (1580, 0.0), (1581, 0.0), (1582, 0.0), (1583, 0.0), (1584, 0.0), (1585, 0.0), (1586, 0.0), (1587, 0.0), (1588, 0.016622069332546247), (1589, 0.016495397285386112), (1590, 0.0), (1591, 0.01680752428146265), (1592, 0.0), (1593, 0.0), (1594, 0.0), (1595, 0.019624239226937876), (1596, 0.0), (1597, 0.0), (1598, 0.0), (1599, 0.0), (1600, 0.0), (1601, 0.0), (1602, 0.0), (1603, 0.01930631224505877), (1604, 0.0), (1605, 0.0), (1606, 0.0), (1607, 0.01861100728955095), (1608, 0.017002962869666904), (1609, 0.0), (1610, 0.0), (1611, 0.018280004380939744), (1612, 0.0), (1613, 0.015908811774084), (1614, 0.01806275144390681), (1615, 0.015679747516608108), (1616, 0.017066457701233797), (1617, 0.019115331533925653), (1618, 0.0), (1619, 0.28835409706149406), (1620, 0.018021839809626218), (1621, 0.0), (1622, 0.0), (1623, 0.016371662917021235), (1624, 0.0), (1625, 0.0), (1626, 0.0), (1627, 0.01577208054851852), (1628, 0.0), (1629, 0.013903324772998327), (1630, 0.0), (1631, 0.018471320045360996), (1632, 0.016928622779199303), (1633, 0.20171424514208874), (1634, 0.01586015344692574), (1635, 0.0), (1636, 0.05821223447157209), (1637, 0.0), (1638, 0.0), (1639, 0.0), (1640, 0.0), (1641, 0.0), (1642, 0.0), (1643, 0.0), (1644, 0.0), (1645, 0.0), (1646, 0.0), (1647, 0.0), (1648, 0.0), (1649, 0.0), (1650, 0.0), (1651, 0.0), (1652, 0.01604656233842002), (1653, 0.0), (1654, 0.01734759655684333), (1655, 0.018186632166979588), (1656, 0.0), (1657, 0.016909134775934354), (1658, 0.013057216506571299), (1659, 0.018116642108361985), (1660, 0.0), (1661, 0.0), (1662, 0.0), (1663, 0.018121809120539817), (1664, 0.0), (1665, 0.01697157534077021), (1666, 0.0), (1667, 0.0), (1668, 0.0), (1669, 0.0), (1670, 0.0), (1671, 0.0), (1672, 0.0), (1673, 0.0), (1674, 0.0), (1675, 0.0), (1676, 0.0), (1677, 0.05826460175982486), (1678, 0.10274299480411256), (1679, 0.017168870662825166), (1680, 0.0160835404970202), (1681, 0.012704879940894118), (1682, 0.0), (1683, 0.01703224121580133), (1684, 0.017997387019745896), (1685, 0.016818414217988357), (1686, 0.01695357898160726), (1687, 0.05129799138566703), (1688, 0.049744326205645395), (1689, 0.051603715332542696), (1690, 0.04855343272968088), (1691, 0.07680452899337492), (1692, 0.061983266128465046), (1693, 0.05985960227694712), (1694, 0.015577890775053784), (1695, 0.021656283616315594), (1696, 0.0659048919200248), (1697, 0.0)]\n"
          ]
        }
      ]
    },
    {
      "cell_type": "code",
      "source": [
        "len(similarity_score)\n"
      ],
      "metadata": {
        "colab": {
          "base_uri": "https://localhost:8080/"
        },
        "id": "1tPTE0oUN2ea",
        "outputId": "7140e984-87f5-40ad-a991-eda1fb996eb6"
      },
      "execution_count": 33,
      "outputs": [
        {
          "output_type": "execute_result",
          "data": {
            "text/plain": [
              "1698"
            ]
          },
          "metadata": {},
          "execution_count": 33
        }
      ]
    },
    {
      "cell_type": "code",
      "source": [
        "# sorting the movies based on their similarity score\n",
        "\n",
        "sorted_similar_movies = sorted(similarity_score, key = lambda x:x[1], reverse = True)\n",
        "print(sorted_similar_movies)"
      ],
      "metadata": {
        "colab": {
          "base_uri": "https://localhost:8080/"
        },
        "id": "d9B67An8N7Cn",
        "outputId": "309e1449-c0fa-4a53-e84a-4daa624c6707"
      },
      "execution_count": 34,
      "outputs": [
        {
          "output_type": "stream",
          "name": "stdout",
          "text": [
            "[(5, 1.0000000000000002), (1295, 0.7721414125056332), (14, 0.7078990360179231), (1, 0.4235971964283193), (1222, 0.37805727520931165), (296, 0.33068242538782955), (1408, 0.32306018702707157), (1409, 0.32306018702707157), (642, 0.31674986438552466), (1122, 0.3146074636834748), (1425, 0.31282948359786295), (659, 0.29908099047226794), (377, 0.29807329167950875), (4, 0.2949554661947891), (662, 0.29334285148427025), (1407, 0.29216921552606795), (243, 0.29004803158214204), (1619, 0.28835409706149406), (0, 0.27643223921007054), (2, 0.2736064134129017), (15, 0.2513314128353203), (3, 0.23851297788083817), (17, 0.23761094425420679), (112, 0.22735280463488913), (1357, 0.22433604015207542), (1103, 0.22388982450575884), (16, 0.21663013482147095), (166, 0.20295779680669968), (1633, 0.20171424514208874), (7, 0.18148549574655282), (1249, 0.1538839115718923), (894, 0.131910801679059), (1248, 0.11580149707280755), (1219, 0.11476515381034418), (1247, 0.11357428833163939), (1259, 0.11357428833163939), (131, 0.113465837257597), (1228, 0.1128082411781311), (849, 0.1104039884726498), (1243, 0.10899315042340289), (1678, 0.10274299480411256), (1369, 0.10129128653863385), (1370, 0.10129128653863385), (1168, 0.09467441291221994), (593, 0.09454285346194567), (833, 0.09094180660268977), (587, 0.08508999013432704), (826, 0.08375794395634328), (1230, 0.08135818317164366), (472, 0.08107299478285118), (1261, 0.08087909668272189), (1254, 0.07908994708792302), (1075, 0.07746057422062869), (1365, 0.07722379114578425), (1691, 0.07680452899337492), (1451, 0.07553628389550102), (1367, 0.0740924447239734), (1374, 0.07322332952240578), (1375, 0.07322332952240578), (1448, 0.07265683938018647), (1223, 0.07247277819132328), (1260, 0.07186359063341682), (1220, 0.0717346148204165), (649, 0.07172916648864598), (130, 0.07036298780449107), (590, 0.07003083504913361), (1380, 0.06976823094648499), (591, 0.06953887094426382), (1008, 0.06943275536685455), (12, 0.06903425559188195), (595, 0.06896928864578286), (717, 0.06864006160653932), (599, 0.06801408321170674), (1216, 0.06776221619046707), (1184, 0.06765919309141753), (279, 0.06672881084717522), (793, 0.06664947993050298), (1263, 0.06630930843144381), (1278, 0.0662223454588534), (1696, 0.0659048919200248), (844, 0.06564761000418243), (1573, 0.06519698024054883), (589, 0.06515099998754804), (374, 0.0645233374421318), (998, 0.06429744002221988), (1085, 0.06424647893042801), (585, 0.06409536885366891), (532, 0.06397862418809146), (1253, 0.06392149527312962), (877, 0.0630378047498254), (650, 0.06237880597661421), (1280, 0.06211569991012312), (1692, 0.061983266128465046), (1226, 0.06189795321338528), (1373, 0.061684268768478594), (1057, 0.06156213484310659), (1210, 0.061506502705346286), (169, 0.06121356751550003), (170, 0.06121356751550003), (190, 0.06106362465034139), (1241, 0.0606513639448584), (1693, 0.05985960227694712), (584, 0.05977781527655205), (1242, 0.05967639690667354), (145, 0.05963365595104929), (953, 0.05945379380759487), (1543, 0.05942319457601227), (1489, 0.05932767624494929), (748, 0.05911206117147144), (1379, 0.058698809964628076), (168, 0.05864923514578905), (573, 0.05844426833841654), (1677, 0.05826460175982486), (1636, 0.05821223447157209), (171, 0.058159144722561215), (1258, 0.05724123541867117), (727, 0.057224234053021156), (1246, 0.05702452308107148), (1245, 0.056680895539487096), (473, 0.05665858874259998), (1376, 0.056574778388936195), (1244, 0.05649345694725358), (1214, 0.05630246912363197), (1215, 0.05630246912363197), (1229, 0.05623715544452298), (1251, 0.055960580539399896), (1447, 0.055933887609156546), (1366, 0.05528146905110153), (1381, 0.05482318556519368), (1368, 0.054356935017619915), (468, 0.05426631810482448), (886, 0.05400909048639337), (1450, 0.05394670595698546), (1238, 0.05392333542927659), (1449, 0.05383654179526397), (577, 0.05382463742865148), (470, 0.053124390492762345), (1240, 0.053012944720587186), (1252, 0.05285742610231457), (1377, 0.05279587818226912), (675, 0.052685947637761056), (469, 0.05258905166424037), (1378, 0.05243335300640421), (1257, 0.05235108740569122), (122, 0.05233679627486024), (76, 0.05230347492642586), (1250, 0.05217531117177293), (592, 0.0521162750482091), (1218, 0.052009263636866185), (309, 0.051977398216008164), (1231, 0.051946887089096706), (462, 0.0519350832654742), (1204, 0.05190708653009056), (582, 0.05182796769354629), (1689, 0.051603715332542696), (583, 0.05147921267024789), (1371, 0.05141074246268461), (1372, 0.05141074246268461), (1687, 0.05129799138566703), (1224, 0.05119127630184652), (1217, 0.051169951014277244), (581, 0.050659924359112506), (1255, 0.05060860691756479), (1239, 0.050391591210089376), (632, 0.05035109641824354), (1232, 0.050233531955207876), (1225, 0.05022444361293622), (134, 0.05021490347724008), (668, 0.05012923961651391), (1567, 0.050002650697376305), (1688, 0.049744326205645395), (578, 0.04966482398515198), (580, 0.04920213284592441), (278, 0.049003441314881595), (579, 0.04894403922615221), (628, 0.04893140201990361), (1283, 0.04878393268698516), (313, 0.04864627069414541), (1690, 0.04855343272968088), (1262, 0.048516149501097394), (588, 0.04847319091410574), (388, 0.048225762422940195), (927, 0.04796825159125407), (1566, 0.04761489946737409), (1227, 0.047516174383964556), (75, 0.04681291710103056), (331, 0.0466522257212635), (594, 0.04635256186727158), (432, 0.046136033748817425), (1264, 0.04575691197901202), (208, 0.045556880785037925), (1150, 0.045556880785037925), (1256, 0.0454339316309697), (471, 0.045353066410707084), (285, 0.04506747385189207), (467, 0.04468617868372873), (1506, 0.04431527267602572), (487, 0.04427037957891717), (437, 0.04393002269848727), (932, 0.04374948527786951), (1565, 0.04373754127888685), (1209, 0.04362591898474244), (474, 0.04357992791509956), (1338, 0.04343265894406589), (196, 0.043352585670250264), (1152, 0.04330283947451288), (1364, 0.04315876052097825), (280, 0.04287947896656115), (860, 0.04271773998742836), (345, 0.04255965725257048), (1148, 0.042227288647418336), (1340, 0.04056922283598067), (847, 0.039955592839895845), (825, 0.03892558854446834), (918, 0.03574722988874279), (1151, 0.03406714311019712), (324, 0.03156446633237308), (167, 0.026281324452898987), (1093, 0.024333247531907968), (1094, 0.024333247531907968), (1098, 0.02403073384257189), (1099, 0.02403073384257189), (452, 0.023809997129650064), (1575, 0.023778769594582864), (660, 0.023047970734363578), (1491, 0.022896432970227507), (232, 0.02288860082084021), (233, 0.02288860082084021), (244, 0.022886063423443632), (104, 0.022844151096928667), (1201, 0.022720968717467503), (199, 0.022578857756481194), (109, 0.02252683972933984), (126, 0.02219612501338592), (1095, 0.022138840426745358), (1055, 0.022122896065243043), (1112, 0.0220535880990111), (601, 0.021897554769545417), (125, 0.02187089419376847), (339, 0.021730730182833977), (1695, 0.021656283616315594), (1405, 0.02164581910678341), (1288, 0.021634787437212723), (1306, 0.0216230014456578), (312, 0.02161343961623097), (1130, 0.021545379084858464), (72, 0.02154193846376336), (1293, 0.021418400579326712), (51, 0.021376655572062666), (1434, 0.021356906221665008), (157, 0.021323177401820322), (618, 0.02128412391835716), (1302, 0.021276501409627432), (647, 0.021262055481797007), (1101, 0.021203241082013623), (1291, 0.02118258251518979), (1114, 0.021178358794378408), (43, 0.02116787558749471), (648, 0.02116689896653731), (27, 0.02109731630447144), (1465, 0.02108900301793356), (1354, 0.021083901900118635), (87, 0.02108106816218926), (475, 0.021016348300687576), (1391, 0.020987162971383956), (226, 0.020972185913369672), (970, 0.02086502306352547), (294, 0.02084520605979747), (1534, 0.020826815941703283), (52, 0.02079802445521731), (273, 0.02079219710746879), (135, 0.020775112584677825), (856, 0.020744590206815315), (604, 0.02074391812595152), (824, 0.020730241878818213), (253, 0.020719549776512348), (235, 0.02070605326100828), (1518, 0.020706041713664136), (372, 0.02067582961493454), (1270, 0.020639616528541113), (97, 0.020624766467775668), (630, 0.02059938095197713), (783, 0.0205607193779785), (1190, 0.020539274019111223), (283, 0.02050139386285092), (1159, 0.020500314673719124), (743, 0.020464130934806164), (229, 0.020460387399464538), (1187, 0.02042822563577817), (794, 0.020426954354453276), (256, 0.020414377362881115), (368, 0.0204089879154622), (411, 0.020372473019002166), (228, 0.02030283683582175), (652, 0.020287224369858716), (670, 0.020281813173248144), (386, 0.020242903398775002), (561, 0.0202365082147147), (69, 0.020221814355673908), (1415, 0.020153789737277644), (880, 0.020152155845190197), (640, 0.020087141394477714), (181, 0.020075135818026345), (1027, 0.02007483344998059), (234, 0.020047438306801862), (653, 0.0200453128247198), (1426, 0.02004201569668548), (693, 0.020035641866048507), (298, 0.020030859270562713), (814, 0.019993640241473737), (1276, 0.019929671759045604), (509, 0.01992182360149711), (638, 0.019903510729646738), (1301, 0.01988370686185465), (507, 0.019876921313027186), (45, 0.019862842971527423), (968, 0.01985920177462658), (661, 0.019852166835547733), (1464, 0.01984068654600253), (1084, 0.019826206384666378), (430, 0.019825466171762045), (771, 0.019823014590144867), (627, 0.01982269896590357), (1538, 0.019814510321408414), (690, 0.019811066995030508), (865, 0.019800722457346848), (817, 0.01974286131170639), (1274, 0.01973941814325484), (446, 0.01973901502638782), (1432, 0.01973795002940003), (1203, 0.019723759436958244), (219, 0.01970596845576979), (1460, 0.01969837155744541), (41, 0.019692035565669966), (1156, 0.01966097720976723), (558, 0.019640902478201234), (1121, 0.019630227300316768), (1595, 0.019624239226937876), (1266, 0.019620274196289526), (753, 0.019618308375372023), (1096, 0.019569763040449564), (805, 0.019557569813341003), (1105, 0.019556601422795968), (275, 0.01955439618570215), (1135, 0.01954066377750166), (442, 0.0195189162495585), (1559, 0.019518847281824285), (1035, 0.019512693228206337), (1572, 0.019497913973566795), (1153, 0.0194965391103225), (53, 0.01946367713558322), (1431, 0.019439233399444006), (1267, 0.019418187305054836), (518, 0.019411293201394963), (863, 0.019386243608461477), (916, 0.019374494193336308), (1054, 0.019356913593359656), (637, 0.019349931241084528), (98, 0.019327146534660073), (1480, 0.01931503254702703), (496, 0.019311643480782365), (949, 0.01930631224505877), (1603, 0.01930631224505877), (741, 0.019290217976670528), (1420, 0.019275406796218673), (758, 0.0191873422487434), (1308, 0.019171082951861092), (274, 0.019170171472199977), (1004, 0.01915937049001531), (881, 0.019152047032145722), (1048, 0.019138045798384243), (742, 0.0191311402340812), (934, 0.01911997937901367), (871, 0.019116807491051015), (1617, 0.019115331533925653), (792, 0.019081061175065285), (1297, 0.019080386133974114), (1414, 0.019080314804329916), (1052, 0.019080209335571755), (1026, 0.01906400910785095), (127, 0.01905307346270589), (667, 0.019046009377122437), (1556, 0.019045453440931687), (574, 0.01902118155011576), (788, 0.01900684032751827), (1359, 0.018994229874823482), (438, 0.01898608150325143), (88, 0.018980067958424086), (926, 0.0189680057689792), (608, 0.018955608739614074), (360, 0.018934810821873024), (478, 0.01891416543758941), (1352, 0.018906500670957165), (239, 0.018890292830585922), (1005, 0.018883622612470383), (1525, 0.018879568286553614), (261, 0.018863129218198372), (804, 0.018843591558252694), (242, 0.018833622156549802), (1202, 0.018826443920185957), (873, 0.01878968021843079), (262, 0.018781044911846394), (1528, 0.018771756464182544), (224, 0.01876910074322788), (663, 0.018752028368274186), (610, 0.01875083386707859), (220, 0.018748982920201357), (791, 0.018745496439259907), (1136, 0.018742910676710887), (205, 0.018738475534876554), (969, 0.01871873671244098), (832, 0.018695870830410376), (982, 0.018684684188638535), (569, 0.018678119721580923), (1533, 0.018645852781578633), (945, 0.01864069298650523), (65, 0.018635991778237004), (1034, 0.018635034982270846), (1607, 0.01861100728955095), (36, 0.018603227937684944), (744, 0.018584039427365993), (981, 0.01857327045427459), (11, 0.01851561366769931), (938, 0.01850857543782232), (1522, 0.018503306523747973), (241, 0.01849396810574595), (1144, 0.01848442289942439), (1631, 0.018471320045360996), (460, 0.01846599770898878), (639, 0.018462047687278847), (1015, 0.018458569022456732), (729, 0.018456498315883075), (1032, 0.018439330636337254), (434, 0.01842018092422835), (1063, 0.018418917235325363), (206, 0.018395373793359687), (292, 0.018385282082760315), (1018, 0.01838471443724543), (678, 0.018380868883054766), (864, 0.01837445623481472), (883, 0.01836920376148677), (755, 0.018347167464571667), (1045, 0.01834060693827401), (1185, 0.018317116066571566), (1191, 0.01831591932656585), (869, 0.01828251389517799), (1611, 0.018280004380939744), (287, 0.018268762348942973), (719, 0.018237579202139125), (835, 0.0182300505147097), (1067, 0.018208816501719287), (124, 0.018202727102957672), (1655, 0.018186632166979588), (901, 0.018178756239219506), (174, 0.018178195520153994), (686, 0.0181639325255951), (740, 0.018160780837328378), (258, 0.018144377185232798), (1361, 0.018131234959378795), (1362, 0.018131234959378795), (1363, 0.018131234959378795), (1279, 0.018127813677843527), (775, 0.018124204453001082), (1663, 0.018121809120539817), (1659, 0.018116642108361985), (1033, 0.018079545238105656), (725, 0.018077579944343954), (1614, 0.01806275144390681), (848, 0.01803921532984973), (1471, 0.018028068935279876), (1620, 0.018021839809626218), (853, 0.018018529246554792), (1272, 0.018015715033522884), (1684, 0.017997387019745896), (951, 0.017985201064584427), (1206, 0.017973233329716586), (549, 0.017972112263579455), (551, 0.0179408087878165), (132, 0.01793441007547123), (62, 0.01791660974157912), (671, 0.01790013321004467), (423, 0.017897070095647446), (1410, 0.017884737486282443), (1157, 0.01788071554686295), (1443, 0.017874481250772904), (923, 0.01784447505644771), (334, 0.017818213753799664), (961, 0.017815933336027857), (343, 0.017815877299943557), (392, 0.017803599253892192), (903, 0.017800595381409236), (1003, 0.017799613753934566), (1439, 0.017794283712878462), (269, 0.01778103299796669), (556, 0.01777600393534572), (1554, 0.017764708221320955), (855, 0.01775439579991328), (1115, 0.01773186193523231), (429, 0.017718564044666874), (800, 0.017716686126677473), (703, 0.01771501144592922), (669, 0.017672504702836014), (1541, 0.017668398481835063), (757, 0.017639443830460084), (718, 0.017639421355586604), (1475, 0.017632863485900527), (1476, 0.017632863485900527), (634, 0.017620003016303152), (1456, 0.01758668168532365), (774, 0.017579429910879737), (531, 0.017577895721064194), (956, 0.01757338320856112), (1342, 0.01755437284522297), (362, 0.0175457701478949), (921, 0.017531307744220875), (680, 0.017524895204323796), (1083, 0.017522493764092366), (682, 0.017519601302901953), (306, 0.017500192778922542), (60, 0.0174722775595896), (333, 0.01747093450688272), (369, 0.0174691296386713), (480, 0.017462023756459878), (899, 0.01743999513985064), (281, 0.017428564417547303), (266, 0.017401391949979448), (691, 0.017400910703271065), (513, 0.017398162818717866), (477, 0.017395442016340443), (1454, 0.01738269456044087), (789, 0.01737918657740414), (1429, 0.01737853181404687), (885, 0.01736691486155604), (615, 0.017365829257693224), (1524, 0.017348995473391176), (1654, 0.01734759655684333), (597, 0.017341957164578814), (613, 0.017337532450547113), (1385, 0.01733528429396796), (316, 0.01733320089120891), (318, 0.017331238276347586), (893, 0.017311181647854217), (89, 0.017309461408333095), (723, 0.017260328551815404), (397, 0.017256253238405968), (1563, 0.017247662348932907), (889, 0.017231930877480987), (1147, 0.017222738125707536), (319, 0.017222087562312364), (629, 0.01721199348254719), (488, 0.017196728626711715), (1679, 0.017168870662825166), (1141, 0.01715648319453116), (1062, 0.017145167283530875), (554, 0.017141558575615196), (928, 0.01711759267429757), (776, 0.017108414886656875), (836, 0.017103881260294173), (1473, 0.017092097263931804), (1341, 0.017087846829545967), (1616, 0.017066457701233797), (892, 0.017060902605153902), (356, 0.017054600593170953), (999, 0.017053996858296287), (1683, 0.01703224121580133), (767, 0.017006191805839507), (1608, 0.017002962869666904), (332, 0.01700188697773987), (271, 0.017001729296429288), (900, 0.016984567784399683), (681, 0.016972265738468974), (1665, 0.01697157534077021), (756, 0.01696723466826002), (1686, 0.01695357898160726), (828, 0.016939397099131906), (1000, 0.01693619134543821), (1632, 0.016928622779199303), (1110, 0.016919206593067), (820, 0.01690967860146301), (1657, 0.016909134775934354), (537, 0.016899989849979147), (838, 0.016899962747667557), (1022, 0.01689701583748981), (897, 0.016872772284762142), (570, 0.01687097754625653), (1544, 0.016867766111738576), (784, 0.016864314197985442), (1265, 0.016860978434384992), (533, 0.01685548637570958), (1555, 0.0168538753718348), (489, 0.016853434607811725), (515, 0.016846624101891035), (872, 0.016839605008941584), (1146, 0.016824628468600288), (1685, 0.016818414217988357), (1591, 0.01680752428146265), (1326, 0.016795416249655394), (197, 0.0167928382218473), (1307, 0.016792567219432144), (884, 0.01678955909071991), (807, 0.01677677410315604), (1212, 0.01675747578355413), (1468, 0.016751482749974077), (906, 0.01673514630953249), (485, 0.016728603746801293), (985, 0.016720917919639526), (433, 0.01672018845083169), (1009, 0.0167098486723897), (1030, 0.01670522007100454), (381, 0.01669589168204015), (1335, 0.016687114542384338), (484, 0.016676463550347367), (353, 0.01664829583886964), (545, 0.016647926528245933), (56, 0.016646546377052925), (995, 0.01663430243613965), (1281, 0.016632856786872475), (1588, 0.016622069332546247), (679, 0.01662202069759745), (86, 0.01662045379593605), (827, 0.016614877617742163), (396, 0.016608687220992863), (323, 0.016590330678542455), (812, 0.01657138874482686), (400, 0.01655440332220065), (720, 0.016549630784009464), (1321, 0.01653749400483538), (80, 0.016536245107273598), (1589, 0.016495397285386112), (325, 0.016463359011514783), (842, 0.016457366022355306), (1196, 0.016450671828929214), (329, 0.016448081578116936), (911, 0.01643403101263524), (935, 0.016429869690771818), (617, 0.01641445544633138), (1155, 0.016409438754887564), (1562, 0.016390057313761308), (912, 0.01638511431035794), (904, 0.016374147640409023), (1623, 0.016371662917021235), (1143, 0.01637077238413304), (482, 0.01636630792017139), (1457, 0.016361026828381052), (1529, 0.016359271050716957), (404, 0.016317535714099975), (586, 0.016273138945304515), (1089, 0.016266104674946495), (851, 0.016240347574305838), (9, 0.016235374935024388), (257, 0.016234375334240433), (74, 0.016226016711937435), (389, 0.016221309877606827), (834, 0.016206193485149227), (621, 0.016203806056749565), (1205, 0.01619673678080864), (247, 0.016182842592568143), (830, 0.01618075499926483), (534, 0.016137465412201273), (405, 0.016131674883395623), (728, 0.016127961428874384), (498, 0.01612434356641772), (1477, 0.016106431001670946), (672, 0.016106347423215244), (1531, 0.016102683456237662), (255, 0.016094719703399346), (1345, 0.016086794154736662), (1680, 0.0160835404970202), (1652, 0.01604656233842002), (721, 0.016027658825007996), (1050, 0.016023908592873535), (673, 0.016016521241535537), (1181, 0.01599170560976923), (917, 0.015955673046171556), (1183, 0.015950090640895268), (1438, 0.01594822845644249), (732, 0.015933932698614508), (499, 0.015920352278644512), (1613, 0.015908811774084), (403, 0.015898961367764527), (1182, 0.015889274654161973), (1634, 0.01586015344692574), (1328, 0.015854080216699772), (1466, 0.01585221389716832), (731, 0.015837695961442123), (188, 0.015835450428468283), (337, 0.015798670002090075), (1627, 0.01577208054851852), (1012, 0.0157601266293346), (797, 0.01573117885411442), (406, 0.01572344811535499), (364, 0.015709594453435238), (431, 0.015704816920760936), (1117, 0.015702863136203952), (1615, 0.015679747516608108), (810, 0.01567311285336916), (1036, 0.015659301708730995), (1336, 0.01562760438869019), (64, 0.015625191335124407), (626, 0.015611923942098151), (1535, 0.01558004428718944), (1694, 0.015577890775053784), (750, 0.015563143900801064), (959, 0.015545034853730108), (964, 0.015520660584530527), (962, 0.015505105950603568), (1344, 0.015490242030536248), (843, 0.015485959102988629), (957, 0.015471031250039308), (839, 0.015459165820017268), (483, 0.01545278989791025), (1192, 0.015450421555724328), (752, 0.01543540677694242), (225, 0.015367123061655266), (858, 0.015364380824472465), (902, 0.01535047117945457), (387, 0.015328223343532038), (859, 0.015298110200818343), (542, 0.015284893554069248), (63, 0.015255583854457355), (1570, 0.015183229513265532), (1061, 0.015158993540857776), (1189, 0.015152527245065205), (724, 0.015137391728855426), (391, 0.015134752846057094), (401, 0.015125456656456936), (419, 0.015080514680367007), (1571, 0.015056959871337223), (1527, 0.015052786588908205), (340, 0.015028414389933601), (876, 0.015019167759493536), (706, 0.014839699057559063), (1540, 0.014781082858538998), (523, 0.01477573951301158), (68, 0.014750388364728056), (1271, 0.014743530878782139), (1416, 0.014701027108464469), (519, 0.014636488690361334), (1139, 0.01454817375409515), (384, 0.014536026378190271), (538, 0.014519647018639642), (708, 0.014507054386538742), (711, 0.014414508160071152), (342, 0.014404046560686251), (722, 0.01425710065351367), (726, 0.014201517705084243), (973, 0.01414278158156295), (1213, 0.014012231729481362), (933, 0.013993470863660493), (246, 0.013982322988300527), (1332, 0.01396605482248773), (798, 0.013946298999053112), (1629, 0.013903324772998327), (997, 0.013659160255796663), (759, 0.013635238349304331), (1169, 0.013595242382810315), (1154, 0.013532760504565743), (874, 0.013486881396897295), (1324, 0.013466160986296988), (1395, 0.013458893409383103), (840, 0.013187590027925841), (785, 0.013168720634322381), (1658, 0.013057216506571299), (1681, 0.012704879940894118), (1140, 0.012657298969769772), (1132, 0.012567705437768452), (567, 0.012329065837804151), (54, 0.012261038926814618), (1233, 0.011949766198822934), (600, 0.011803804531176727), (908, 0.011601615991953354), (852, 0.011505865287366133), (19, 0.011435352842519704), (529, 0.01142812748889743), (530, 0.01142812748889743), (950, 0.011200496551078435), (1512, 0.010249088596991373), (1309, 0.009884763748202833), (1532, 0.008994274539978593), (526, 0.008301565299742669), (528, 0.008301565299742669), (6, 0.0), (8, 0.0), (10, 0.0), (13, 0.0), (18, 0.0), (20, 0.0), (21, 0.0), (22, 0.0), (23, 0.0), (24, 0.0), (25, 0.0), (26, 0.0), (28, 0.0), (29, 0.0), (30, 0.0), (31, 0.0), (32, 0.0), (33, 0.0), (34, 0.0), (35, 0.0), (37, 0.0), (38, 0.0), (39, 0.0), (40, 0.0), (42, 0.0), (44, 0.0), (46, 0.0), (47, 0.0), (48, 0.0), (49, 0.0), (50, 0.0), (55, 0.0), (57, 0.0), (58, 0.0), (59, 0.0), (61, 0.0), (66, 0.0), (67, 0.0), (70, 0.0), (71, 0.0), (73, 0.0), (77, 0.0), (78, 0.0), (79, 0.0), (81, 0.0), (82, 0.0), (83, 0.0), (84, 0.0), (85, 0.0), (90, 0.0), (91, 0.0), (92, 0.0), (93, 0.0), (94, 0.0), (95, 0.0), (96, 0.0), (99, 0.0), (100, 0.0), (101, 0.0), (102, 0.0), (103, 0.0), (105, 0.0), (106, 0.0), (107, 0.0), (108, 0.0), (110, 0.0), (111, 0.0), (113, 0.0), (114, 0.0), (115, 0.0), (116, 0.0), (117, 0.0), (118, 0.0), (119, 0.0), (120, 0.0), (121, 0.0), (123, 0.0), (128, 0.0), (129, 0.0), (133, 0.0), (136, 0.0), (137, 0.0), (138, 0.0), (139, 0.0), (140, 0.0), (141, 0.0), (142, 0.0), (143, 0.0), (144, 0.0), (146, 0.0), (147, 0.0), (148, 0.0), (149, 0.0), (150, 0.0), (151, 0.0), (152, 0.0), (153, 0.0), (154, 0.0), (155, 0.0), (156, 0.0), (158, 0.0), (159, 0.0), (160, 0.0), (161, 0.0), (162, 0.0), (163, 0.0), (164, 0.0), (165, 0.0), (172, 0.0), (173, 0.0), (175, 0.0), (176, 0.0), (177, 0.0), (178, 0.0), (179, 0.0), (180, 0.0), (182, 0.0), (183, 0.0), (184, 0.0), (185, 0.0), (186, 0.0), (187, 0.0), (189, 0.0), (191, 0.0), (192, 0.0), (193, 0.0), (194, 0.0), (195, 0.0), (198, 0.0), (200, 0.0), (201, 0.0), (202, 0.0), (203, 0.0), (204, 0.0), (207, 0.0), (209, 0.0), (210, 0.0), (211, 0.0), (212, 0.0), (213, 0.0), (214, 0.0), (215, 0.0), (216, 0.0), (217, 0.0), (218, 0.0), (221, 0.0), (222, 0.0), (223, 0.0), (227, 0.0), (230, 0.0), (231, 0.0), (236, 0.0), (237, 0.0), (238, 0.0), (240, 0.0), (245, 0.0), (248, 0.0), (249, 0.0), (250, 0.0), (251, 0.0), (252, 0.0), (254, 0.0), (259, 0.0), (260, 0.0), (263, 0.0), (264, 0.0), (265, 0.0), (267, 0.0), (268, 0.0), (270, 0.0), (272, 0.0), (276, 0.0), (277, 0.0), (282, 0.0), (284, 0.0), (286, 0.0), (288, 0.0), (289, 0.0), (290, 0.0), (291, 0.0), (293, 0.0), (295, 0.0), (297, 0.0), (299, 0.0), (300, 0.0), (301, 0.0), (302, 0.0), (303, 0.0), (304, 0.0), (305, 0.0), (307, 0.0), (308, 0.0), (310, 0.0), (311, 0.0), (314, 0.0), (315, 0.0), (317, 0.0), (320, 0.0), (321, 0.0), (322, 0.0), (326, 0.0), (327, 0.0), (328, 0.0), (330, 0.0), (335, 0.0), (336, 0.0), (338, 0.0), (341, 0.0), (344, 0.0), (346, 0.0), (347, 0.0), (348, 0.0), (349, 0.0), (350, 0.0), (351, 0.0), (352, 0.0), (354, 0.0), (355, 0.0), (357, 0.0), (358, 0.0), (359, 0.0), (361, 0.0), (363, 0.0), (365, 0.0), (366, 0.0), (367, 0.0), (370, 0.0), (371, 0.0), (373, 0.0), (375, 0.0), (376, 0.0), (378, 0.0), (379, 0.0), (380, 0.0), (382, 0.0), (383, 0.0), (385, 0.0), (390, 0.0), (393, 0.0), (394, 0.0), (395, 0.0), (398, 0.0), (399, 0.0), (402, 0.0), (407, 0.0), (408, 0.0), (409, 0.0), (410, 0.0), (412, 0.0), (413, 0.0), (414, 0.0), (415, 0.0), (416, 0.0), (417, 0.0), (418, 0.0), (420, 0.0), (421, 0.0), (422, 0.0), (424, 0.0), (425, 0.0), (426, 0.0), (427, 0.0), (428, 0.0), (435, 0.0), (436, 0.0), (439, 0.0), (440, 0.0), (441, 0.0), (443, 0.0), (444, 0.0), (445, 0.0), (447, 0.0), (448, 0.0), (449, 0.0), (450, 0.0), (451, 0.0), (453, 0.0), (454, 0.0), (455, 0.0), (456, 0.0), (457, 0.0), (458, 0.0), (459, 0.0), (461, 0.0), (463, 0.0), (464, 0.0), (465, 0.0), (466, 0.0), (476, 0.0), (479, 0.0), (481, 0.0), (486, 0.0), (490, 0.0), (491, 0.0), (492, 0.0), (493, 0.0), (494, 0.0), (495, 0.0), (497, 0.0), (500, 0.0), (501, 0.0), (502, 0.0), (503, 0.0), (504, 0.0), (505, 0.0), (506, 0.0), (508, 0.0), (510, 0.0), (511, 0.0), (512, 0.0), (514, 0.0), (516, 0.0), (517, 0.0), (520, 0.0), (521, 0.0), (522, 0.0), (524, 0.0), (525, 0.0), (527, 0.0), (535, 0.0), (536, 0.0), (539, 0.0), (540, 0.0), (541, 0.0), (543, 0.0), (544, 0.0), (546, 0.0), (547, 0.0), (548, 0.0), (550, 0.0), (552, 0.0), (553, 0.0), (555, 0.0), (557, 0.0), (559, 0.0), (560, 0.0), (562, 0.0), (563, 0.0), (564, 0.0), (565, 0.0), (566, 0.0), (568, 0.0), (571, 0.0), (572, 0.0), (575, 0.0), (576, 0.0), (596, 0.0), (598, 0.0), (602, 0.0), (603, 0.0), (605, 0.0), (606, 0.0), (607, 0.0), (609, 0.0), (611, 0.0), (612, 0.0), (614, 0.0), (616, 0.0), (619, 0.0), (620, 0.0), (622, 0.0), (623, 0.0), (624, 0.0), (625, 0.0), (631, 0.0), (633, 0.0), (635, 0.0), (636, 0.0), (641, 0.0), (643, 0.0), (644, 0.0), (645, 0.0), (646, 0.0), (651, 0.0), (654, 0.0), (655, 0.0), (656, 0.0), (657, 0.0), (658, 0.0), (664, 0.0), (665, 0.0), (666, 0.0), (674, 0.0), (676, 0.0), (677, 0.0), (683, 0.0), (684, 0.0), (685, 0.0), (687, 0.0), (688, 0.0), (689, 0.0), (692, 0.0), (694, 0.0), (695, 0.0), (696, 0.0), (697, 0.0), (698, 0.0), (699, 0.0), (700, 0.0), (701, 0.0), (702, 0.0), (704, 0.0), (705, 0.0), (707, 0.0), (709, 0.0), (710, 0.0), (712, 0.0), (713, 0.0), (714, 0.0), (715, 0.0), (716, 0.0), (730, 0.0), (733, 0.0), (734, 0.0), (735, 0.0), (736, 0.0), (737, 0.0), (738, 0.0), (739, 0.0), (745, 0.0), (746, 0.0), (747, 0.0), (749, 0.0), (751, 0.0), (754, 0.0), (760, 0.0), (761, 0.0), (762, 0.0), (763, 0.0), (764, 0.0), (765, 0.0), (766, 0.0), (768, 0.0), (769, 0.0), (770, 0.0), (772, 0.0), (773, 0.0), (777, 0.0), (778, 0.0), (779, 0.0), (780, 0.0), (781, 0.0), (782, 0.0), (786, 0.0), (787, 0.0), (790, 0.0), (795, 0.0), (796, 0.0), (799, 0.0), (801, 0.0), (802, 0.0), (803, 0.0), (806, 0.0), (808, 0.0), (809, 0.0), (811, 0.0), (813, 0.0), (815, 0.0), (816, 0.0), (818, 0.0), (819, 0.0), (821, 0.0), (822, 0.0), (823, 0.0), (829, 0.0), (831, 0.0), (837, 0.0), (841, 0.0), (845, 0.0), (846, 0.0), (850, 0.0), (854, 0.0), (857, 0.0), (861, 0.0), (862, 0.0), (866, 0.0), (867, 0.0), (868, 0.0), (870, 0.0), (875, 0.0), (878, 0.0), (879, 0.0), (882, 0.0), (887, 0.0), (888, 0.0), (890, 0.0), (891, 0.0), (895, 0.0), (896, 0.0), (898, 0.0), (905, 0.0), (907, 0.0), (909, 0.0), (910, 0.0), (913, 0.0), (914, 0.0), (915, 0.0), (919, 0.0), (920, 0.0), (922, 0.0), (924, 0.0), (925, 0.0), (929, 0.0), (930, 0.0), (931, 0.0), (936, 0.0), (937, 0.0), (939, 0.0), (940, 0.0), (941, 0.0), (942, 0.0), (943, 0.0), (944, 0.0), (946, 0.0), (947, 0.0), (948, 0.0), (952, 0.0), (954, 0.0), (955, 0.0), (958, 0.0), (960, 0.0), (963, 0.0), (965, 0.0), (966, 0.0), (967, 0.0), (971, 0.0), (972, 0.0), (974, 0.0), (975, 0.0), (976, 0.0), (977, 0.0), (978, 0.0), (979, 0.0), (980, 0.0), (983, 0.0), (984, 0.0), (986, 0.0), (987, 0.0), (988, 0.0), (989, 0.0), (990, 0.0), (991, 0.0), (992, 0.0), (993, 0.0), (994, 0.0), (996, 0.0), (1001, 0.0), (1002, 0.0), (1006, 0.0), (1007, 0.0), (1010, 0.0), (1011, 0.0), (1013, 0.0), (1014, 0.0), (1016, 0.0), (1017, 0.0), (1019, 0.0), (1020, 0.0), (1021, 0.0), (1023, 0.0), (1024, 0.0), (1025, 0.0), (1028, 0.0), (1029, 0.0), (1031, 0.0), (1037, 0.0), (1038, 0.0), (1039, 0.0), (1040, 0.0), (1041, 0.0), (1042, 0.0), (1043, 0.0), (1044, 0.0), (1046, 0.0), (1047, 0.0), (1049, 0.0), (1051, 0.0), (1053, 0.0), (1056, 0.0), (1058, 0.0), (1059, 0.0), (1060, 0.0), (1064, 0.0), (1065, 0.0), (1066, 0.0), (1068, 0.0), (1069, 0.0), (1070, 0.0), (1071, 0.0), (1072, 0.0), (1073, 0.0), (1074, 0.0), (1076, 0.0), (1077, 0.0), (1078, 0.0), (1079, 0.0), (1080, 0.0), (1081, 0.0), (1082, 0.0), (1086, 0.0), (1087, 0.0), (1088, 0.0), (1090, 0.0), (1091, 0.0), (1092, 0.0), (1097, 0.0), (1100, 0.0), (1102, 0.0), (1104, 0.0), (1106, 0.0), (1107, 0.0), (1108, 0.0), (1109, 0.0), (1111, 0.0), (1113, 0.0), (1116, 0.0), (1118, 0.0), (1119, 0.0), (1120, 0.0), (1123, 0.0), (1124, 0.0), (1125, 0.0), (1126, 0.0), (1127, 0.0), (1128, 0.0), (1129, 0.0), (1131, 0.0), (1133, 0.0), (1134, 0.0), (1137, 0.0), (1138, 0.0), (1142, 0.0), (1145, 0.0), (1149, 0.0), (1158, 0.0), (1160, 0.0), (1161, 0.0), (1162, 0.0), (1163, 0.0), (1164, 0.0), (1165, 0.0), (1166, 0.0), (1167, 0.0), (1170, 0.0), (1171, 0.0), (1172, 0.0), (1173, 0.0), (1174, 0.0), (1175, 0.0), (1176, 0.0), (1177, 0.0), (1178, 0.0), (1179, 0.0), (1180, 0.0), (1186, 0.0), (1188, 0.0), (1193, 0.0), (1194, 0.0), (1195, 0.0), (1197, 0.0), (1198, 0.0), (1199, 0.0), (1200, 0.0), (1207, 0.0), (1208, 0.0), (1211, 0.0), (1221, 0.0), (1234, 0.0), (1235, 0.0), (1236, 0.0), (1237, 0.0), (1268, 0.0), (1269, 0.0), (1273, 0.0), (1275, 0.0), (1277, 0.0), (1282, 0.0), (1284, 0.0), (1285, 0.0), (1286, 0.0), (1287, 0.0), (1289, 0.0), (1290, 0.0), (1292, 0.0), (1294, 0.0), (1296, 0.0), (1298, 0.0), (1299, 0.0), (1300, 0.0), (1303, 0.0), (1304, 0.0), (1305, 0.0), (1310, 0.0), (1311, 0.0), (1312, 0.0), (1313, 0.0), (1314, 0.0), (1315, 0.0), (1316, 0.0), (1317, 0.0), (1318, 0.0), (1319, 0.0), (1320, 0.0), (1322, 0.0), (1323, 0.0), (1325, 0.0), (1327, 0.0), (1329, 0.0), (1330, 0.0), (1331, 0.0), (1333, 0.0), (1334, 0.0), (1337, 0.0), (1339, 0.0), (1343, 0.0), (1346, 0.0), (1347, 0.0), (1348, 0.0), (1349, 0.0), (1350, 0.0), (1351, 0.0), (1353, 0.0), (1355, 0.0), (1356, 0.0), (1358, 0.0), (1360, 0.0), (1382, 0.0), (1383, 0.0), (1384, 0.0), (1386, 0.0), (1387, 0.0), (1388, 0.0), (1389, 0.0), (1390, 0.0), (1392, 0.0), (1393, 0.0), (1394, 0.0), (1396, 0.0), (1397, 0.0), (1398, 0.0), (1399, 0.0), (1400, 0.0), (1401, 0.0), (1402, 0.0), (1403, 0.0), (1404, 0.0), (1406, 0.0), (1411, 0.0), (1412, 0.0), (1413, 0.0), (1417, 0.0), (1418, 0.0), (1419, 0.0), (1421, 0.0), (1422, 0.0), (1423, 0.0), (1424, 0.0), (1427, 0.0), (1428, 0.0), (1430, 0.0), (1433, 0.0), (1435, 0.0), (1436, 0.0), (1437, 0.0), (1440, 0.0), (1441, 0.0), (1442, 0.0), (1444, 0.0), (1445, 0.0), (1446, 0.0), (1452, 0.0), (1453, 0.0), (1455, 0.0), (1458, 0.0), (1459, 0.0), (1461, 0.0), (1462, 0.0), (1463, 0.0), (1467, 0.0), (1469, 0.0), (1470, 0.0), (1472, 0.0), (1474, 0.0), (1478, 0.0), (1479, 0.0), (1481, 0.0), (1482, 0.0), (1483, 0.0), (1484, 0.0), (1485, 0.0), (1486, 0.0), (1487, 0.0), (1488, 0.0), (1490, 0.0), (1492, 0.0), (1493, 0.0), (1494, 0.0), (1495, 0.0), (1496, 0.0), (1497, 0.0), (1498, 0.0), (1499, 0.0), (1500, 0.0), (1501, 0.0), (1502, 0.0), (1503, 0.0), (1504, 0.0), (1505, 0.0), (1507, 0.0), (1508, 0.0), (1509, 0.0), (1510, 0.0), (1511, 0.0), (1513, 0.0), (1514, 0.0), (1515, 0.0), (1516, 0.0), (1517, 0.0), (1519, 0.0), (1520, 0.0), (1521, 0.0), (1523, 0.0), (1526, 0.0), (1530, 0.0), (1536, 0.0), (1537, 0.0), (1539, 0.0), (1542, 0.0), (1545, 0.0), (1546, 0.0), (1547, 0.0), (1548, 0.0), (1549, 0.0), (1550, 0.0), (1551, 0.0), (1552, 0.0), (1553, 0.0), (1557, 0.0), (1558, 0.0), (1560, 0.0), (1561, 0.0), (1564, 0.0), (1568, 0.0), (1569, 0.0), (1574, 0.0), (1576, 0.0), (1577, 0.0), (1578, 0.0), (1579, 0.0), (1580, 0.0), (1581, 0.0), (1582, 0.0), (1583, 0.0), (1584, 0.0), (1585, 0.0), (1586, 0.0), (1587, 0.0), (1590, 0.0), (1592, 0.0), (1593, 0.0), (1594, 0.0), (1596, 0.0), (1597, 0.0), (1598, 0.0), (1599, 0.0), (1600, 0.0), (1601, 0.0), (1602, 0.0), (1604, 0.0), (1605, 0.0), (1606, 0.0), (1609, 0.0), (1610, 0.0), (1612, 0.0), (1618, 0.0), (1621, 0.0), (1622, 0.0), (1624, 0.0), (1625, 0.0), (1626, 0.0), (1628, 0.0), (1630, 0.0), (1635, 0.0), (1637, 0.0), (1638, 0.0), (1639, 0.0), (1640, 0.0), (1641, 0.0), (1642, 0.0), (1643, 0.0), (1644, 0.0), (1645, 0.0), (1646, 0.0), (1647, 0.0), (1648, 0.0), (1649, 0.0), (1650, 0.0), (1651, 0.0), (1653, 0.0), (1656, 0.0), (1660, 0.0), (1661, 0.0), (1662, 0.0), (1664, 0.0), (1666, 0.0), (1667, 0.0), (1668, 0.0), (1669, 0.0), (1670, 0.0), (1671, 0.0), (1672, 0.0), (1673, 0.0), (1674, 0.0), (1675, 0.0), (1676, 0.0), (1682, 0.0), (1697, 0.0)]\n"
          ]
        }
      ]
    },
    {
      "cell_type": "code",
      "source": [
        "# print the name of similar movies based on the index\n",
        "\n",
        "print('Movies suggested for you : \\n')\n",
        "\n",
        "i = 1\n",
        "\n",
        "for movie in sorted_similar_movies:\n",
        "  index = movie[0]\n",
        "  moviename_from_index = movies_data[movies_data.index==index]['Movie Name'].values[0]\n",
        "  if (i<30):\n",
        "    print(i, '.',moviename_from_index)\n",
        "    i+=1"
      ],
      "metadata": {
        "colab": {
          "base_uri": "https://localhost:8080/"
        },
        "id": "muWokKLuOBw1",
        "outputId": "cdeb5d93-4e9f-4095-b483-9b9109c5c95d"
      },
      "execution_count": 35,
      "outputs": [
        {
          "output_type": "stream",
          "name": "stdout",
          "text": [
            "Movies suggested for you : \n",
            "\n",
            "1 . 3 Idiots\n",
            "2 . Lage Raho Munnabhai\n",
            "3 . PK\n",
            "4 . Taare Zameen Par\n",
            "5 . Parineeta\n",
            "6 . Inkaar\n",
            "7 . Hazaaron Khwaishein Aisi\n",
            "8 . Khoya Khoya Chand\n",
            "9 . Yahaan\n",
            "10 . Laaga Chunari Mein Daag\n",
            "11 . Welcome to Sajjanpur\n",
            "12 . Madras Cafe\n",
            "13 . Well Done Abba\n",
            "14 . Dangal\n",
            "15 . 7 1/2 Phere\n",
            "16 . Kal - Yesterday & Tomorrow\n",
            "17 . Eklavya - The Royal Guard\n",
            "18 . Bobby Jasoos\n",
            "19 . Ghajini\n",
            "20 . Mangal Pandey - The Rising\n",
            "21 . Rang De Basanti\n",
            "22 . Fanaa\n",
            "23 . Dhoom 3\n",
            "24 . Halla Bol\n",
            "25 . Phata Poster Nikhla Hero\n",
            "26 . Ajab Prem Ki Ghazab Kahani\n",
            "27 . Talaash\n",
            "28 . Family - Ties of Blood\n",
            "29 . Mahiya - Call Of Love...\n"
          ]
        }
      ]
    },
    {
      "cell_type": "markdown",
      "source": [
        "Movie Recommender System"
      ],
      "metadata": {
        "id": "dIbSpk9EOUzO"
      }
    },
    {
      "cell_type": "code",
      "source": [
        "movie_name = input(' Enter your favourite movie name : ')\n",
        "\n",
        "list_of_all_titles = movies_data['Movie Name'].tolist()\n",
        "\n",
        "find_close_match = difflib.get_close_matches(movie_name, list_of_all_titles)\n",
        "\n",
        "close_match = find_close_match[0]\n",
        "\n",
        "index_of_the_movie = movies_data[movies_data['Movie Name'] == close_match].index.values[0]\n",
        "\n",
        "similarity_score = list(enumerate(similarity[index_of_the_movie]))\n",
        "\n",
        "sorted_similar_movies = sorted(similarity_score, key = lambda x:x[1], reverse = True)\n",
        "\n",
        "print('Movies suggested for you : \\n')\n",
        "\n",
        "i = 1\n",
        "\n",
        "for movie in sorted_similar_movies:\n",
        "  index = movie[0]\n",
        "  moviename_from_index = movies_data[movies_data.index==index]['Movie Name'].values[0]\n",
        "  if (i<30):\n",
        "    print(i, '.',moviename_from_index)\n",
        "    i+=1"
      ],
      "metadata": {
        "colab": {
          "base_uri": "https://localhost:8080/"
        },
        "id": "FHBbpGHmOUFt",
        "outputId": "7c6d3c97-550e-4dd1-c20f-2b76c1900b67"
      },
      "execution_count": 36,
      "outputs": [
        {
          "output_type": "stream",
          "name": "stdout",
          "text": [
            " Enter your favourite movie name : Ghajini\n",
            "Movies suggested for you : \n",
            "\n",
            "1 . Ghajini\n",
            "2 . Taare Zameen Par\n",
            "3 . Mangal Pandey - The Rising\n",
            "4 . Rang De Basanti\n",
            "5 . Holiday - A Soldier Is Never Off Duty\n",
            "6 . Akira\n",
            "7 . Dhoom 3\n",
            "8 . Dangal\n",
            "9 . Fanaa\n",
            "10 . PK\n",
            "11 . 3 Idiots\n",
            "12 . Blue\n",
            "13 . Talaash\n",
            "14 . Yuvvraaj\n",
            "15 . Raavan\n",
            "16 . Jab Tak Hai Jaan\n",
            "17 . Jaane Tu... Ya Jaane Na\n",
            "18 . Phantom\n",
            "19 . Ek Tha Tiger\n",
            "20 . Jai Ho\n",
            "21 . Dabangg 2\n",
            "22 . Future To Bright Hai Ji\n",
            "23 . Rockstar\n",
            "24 . Tamasha\n",
            "25 . Raanjhanaa\n",
            "26 . Highway\n",
            "27 . Ok Jaanu\n",
            "28 . Guru\n",
            "29 . Water\n"
          ]
        }
      ]
    }
  ]
}